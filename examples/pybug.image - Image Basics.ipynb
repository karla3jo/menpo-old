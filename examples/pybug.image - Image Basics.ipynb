{
 "metadata": {
  "name": ""
 },
 "nbformat": 3,
 "nbformat_minor": 0,
 "worksheets": [
  {
   "cells": [
    {
     "cell_type": "heading",
     "level": 1,
     "metadata": {},
     "source": [
      "Images"
     ]
    },
    {
     "cell_type": "heading",
     "level": 2,
     "metadata": {},
     "source": [
      "Introduction"
     ]
    },
    {
     "cell_type": "markdown",
     "metadata": {},
     "source": [
      "**Images** are simply **n-dimensional** regular arrays of **pixels** where **n >= 2**. Each pixel has **k-channels** of information, and, *once instantiated*, for all images **`k >= 1`**. All pixels and all channels are of the same data type, but there is no restriction in general on what that data type is.\n",
      "\n",
      "Although there are many Image class specializations, all Images are instances of `AbstractNDImage`, and the vast majority of the functionality is shared by all images. We use the syntax \n",
      "    \n",
      "    (i, j, ...., l, [k])\n",
      "    \n",
      "To declare an image shape. The `i` is the size of the first image dimension, `j` the second. This image is of `n` dimensions - the final spatial dimension being of size `l`. The `[]` sybolizes that this is the channel axis - this image has `k` channels. A few examples for clarity:\n",
      "\n",
      "- low-resolution greyscale image: `(320, 240, [1])`\n",
      "- high-resolution RGB image: `(1700, 1650, [3])`\n",
      "- intensity voxel image: `(1024, 1024, 1024, [1])`\n",
      "\n",
      "commonly the channel has an explicit meaning - these are symbolized by a `<>`. For example:\n",
      "    \n",
      "- low-resolution greyscale image: `(320, 240, <I>)`\n",
      "- high-resolution RGB image: `(1700, 1650, <R, G, B>)`\n",
      "- depth image: `(1024, 768, <Z>)`\n",
      "\n",
      "We now use this notation to explain all of the image classes. As a final note - some classes are fixed to have only one channel. The constructors for these images don't expect you to pass a numpy array in with a dead axis on the end all the time. To signify this, the channel signature includes an exclamation mark to show it is implictly generated for you, for example\n",
      "\n",
      "- depth image: `(1024, 768, !<Z>!)` "
     ]
    },
    {
     "cell_type": "markdown",
     "metadata": {},
     "source": [
      "To aid with the explanations, lets import the good old Takeo and Lenna images. `auto_import` will always return to you the right image specialization - just use as normal"
     ]
    },
    {
     "cell_type": "code",
     "collapsed": false,
     "input": [
      "from pybug.io import auto_import\n",
      "from pybug import data_path_to\n",
      "lenna = auto_import(data_path_to('lenna*'))[0]\n",
      "takeo_rgb = auto_import(data_path_to('takeo*'))[0]\n",
      "# Takeo is RGB with repeated channels - convert to greyscale\n",
      "takeo = takeo_rgb.as_greyscale(mode='average')"
     ],
     "language": "python",
     "metadata": {},
     "outputs": []
    },
    {
     "cell_type": "code",
     "collapsed": false,
     "input": [
      "print 'Lenna is a {}'.format(type(lenna))\n",
      "print 'Takeo is a {}'.format(type(takeo))"
     ],
     "language": "python",
     "metadata": {},
     "outputs": []
    },
    {
     "cell_type": "heading",
     "level": 2,
     "metadata": {},
     "source": [
      "AbstractNDImage"
     ]
    },
    {
     "cell_type": "markdown",
     "metadata": {},
     "source": [
      "`(i, j, ...., n, [k])`"
     ]
    },
    {
     "cell_type": "code",
     "collapsed": false,
     "input": [
      "from pybug.image.base import AbstractNDImage\n",
      "print \"Lenna 'isa' AbstractNDImage: {}\".format(isinstance(lenna, AbstractNDImage))\n",
      "print \"Takeo 'isa' AbstractNDImage: {}\".format(isinstance(lenna, AbstractNDImage))"
     ],
     "language": "python",
     "metadata": {},
     "outputs": []
    },
    {
     "cell_type": "markdown",
     "metadata": {},
     "source": [
      "**pixels**\n",
      "- The actual data of the image is stored on the `self.pixels` property. `self.pixels[..., -1]` is refered to as the *channel axis* - and it is always present on an instantiated subclass of `AbstractNDImage` (even if for instance we know the number of channels to always be 1)"
     ]
    },
    {
     "cell_type": "code",
     "collapsed": false,
     "input": [
      "print 'Takeo shape:{}'.format(takeo.pixels.shape)  # takeo is an RGB image even though all the channels are the same\n",
      "print 'The number of channels in Takeo is {}'.format(takeo.pixels.shape[-1])\n",
      "print \"But this the right way to find out is with the 'n_channels' property: {}\".format(takeo.n_channels)\n",
      "print 'n_channels for Lenna is {}'.format(lenna.n_channels)"
     ],
     "language": "python",
     "metadata": {},
     "outputs": []
    },
    {
     "cell_type": "markdown",
     "metadata": {},
     "source": [
      "**shape**\n",
      "- The `self.shape` of the image is the spatial dimension of the array- that's `(i, j, ..., n)`"
     ]
    },
    {
     "cell_type": "code",
     "collapsed": false,
     "input": [
      "print 'Takeo has a shape of {}'.format(takeo.shape)\n",
      "print 'Lenna has a shape of {}'.format(lenna.shape)"
     ],
     "language": "python",
     "metadata": {},
     "outputs": []
    },
    {
     "cell_type": "markdown",
     "metadata": {},
     "source": [
      "**width, height and depth**\n",
      "- annoyingly, images have a very a peculiar format. The `0`'th axis of pixels is the 'height' or 'y' axis, and it starts at the top of the image and runs down. The `1`'st axis is the 'width' or 'x' axis - it starts from the left of the image and runs across. In volumetric data the `2`nd axis reverts back to sensible ordering, and is known as the 'depth' or 'z' axis.  \n",
      "\n",
      "Most of the time worrying about this will lead you into hot water - it's a lot better to not get bogged down in the terminology and just consider the image as an array, just like all our other data. As a result, all our algorithms, such as gradient, will be ordered by axis `0,1,...,n` not `x,y,z` (as this would be axis `1,0,2`). The `self.shape` we printed above was the shape of the underlying array, and so was `(height, width)`. You can use the `self.width` `self.height` and `self.depth` properties to check this for yourself if you ever get confused though"
     ]
    },
    {
     "cell_type": "code",
     "collapsed": false,
     "input": [
      " # note that depth is spatial - even though Lenna has 3 channels it's depth is 0\n",
      "print 'Lenna W:{} H:{} D:{}'.format(lenna.width, lenna.height, lenna.depth)"
     ],
     "language": "python",
     "metadata": {},
     "outputs": []
    },
    {
     "cell_type": "markdown",
     "metadata": {},
     "source": [
      "**centre**\n",
      "- returns the gemetric centre of the image, in axis ordering"
     ]
    },
    {
     "cell_type": "code",
     "collapsed": false,
     "input": [
      "# note that this is (axis0, axis1), which is (height, width) or (Y, X)!\n",
      "print 'the centre of Takeo is {}'.format(takeo.centre)"
     ],
     "language": "python",
     "metadata": {},
     "outputs": []
    },
    {
     "cell_type": "markdown",
     "metadata": {},
     "source": [
      "**counts**\n",
      "- Image metrics are directly accessable as properties. Note that `n_pixels` is channel independent - to find the total size of the array (including channels) use `n_elements`."
     ]
    },
    {
     "cell_type": "code",
     "collapsed": false,
     "input": [
      "print 'Lenna n_dims : {}'.format(lenna.n_dims)\n",
      "print 'Lenna n_channels : {}'.format(lenna.n_channels)\n",
      "print 'Lenna n_pixels : {}'.format(lenna.n_pixels)\n",
      "print 'Lenna n_elements: {}'.format(lenna.n_elements)"
     ],
     "language": "python",
     "metadata": {},
     "outputs": []
    },
    {
     "cell_type": "markdown",
     "metadata": {},
     "source": [
      "**view**\n",
      "- As you'd expect, all images are viewable."
     ]
    },
    {
     "cell_type": "code",
     "collapsed": false,
     "input": [
      "takeo.view()"
     ],
     "language": "python",
     "metadata": {},
     "outputs": []
    },
    {
     "cell_type": "code",
     "collapsed": false,
     "input": [
      "lenna.view()"
     ],
     "language": "python",
     "metadata": {},
     "outputs": []
    },
    {
     "cell_type": "markdown",
     "metadata": {},
     "source": [
      "you can pass the `channel=x` to inspect a single channel of the image"
     ]
    },
    {
     "cell_type": "code",
     "collapsed": false,
     "input": [
      "# viewing Lenna's green channel...\n",
      "lenna.view(channel=0)"
     ],
     "language": "python",
     "metadata": {},
     "outputs": []
    },
    {
     "cell_type": "markdown",
     "metadata": {},
     "source": [
      "**landmark support**\n",
      "- All Images are landmarkable. Let's import an image that has landmarks attached"
     ]
    },
    {
     "cell_type": "code",
     "collapsed": false,
     "input": [
      "breakingbad = auto_import(data_path_to('breakingbad.jpg'))[0]\n",
      "breakingbad.landmarks['PTS'].view()"
     ],
     "language": "python",
     "metadata": {},
     "outputs": []
    },
    {
     "cell_type": "heading",
     "level": 2,
     "metadata": {},
     "source": [
      "BooleanNDImage"
     ]
    },
    {
     "cell_type": "markdown",
     "metadata": {},
     "source": [
      "`(i, j, ...., n, !<B>!)`"
     ]
    },
    {
     "cell_type": "markdown",
     "metadata": {},
     "source": [
      "The first concrete Image subclass we will look at is `BooleanNDImage`. This is an **n-dimensional** image with a single channel per pixel. The datatype of this image is `np.bool`. First, remember that `BooleanNDImage` is a subclass of `AbstractNDImage` and so all of the above features apply again."
     ]
    },
    {
     "cell_type": "code",
     "collapsed": false,
     "input": [
      "from pybug.image import BooleanNDImage\n",
      "mask = lenna.mask\n",
      "mask.view()\n",
      "mask.shape\n",
      "mask.n_channels"
     ],
     "language": "python",
     "metadata": {},
     "outputs": []
    },
    {
     "cell_type": "markdown",
     "metadata": {},
     "source": [
      "Note that the constructor for the Boolean Image doesn't require you to pass in the redundant channel axis - it's created for you."
     ]
    },
    {
     "cell_type": "code",
     "collapsed": false,
     "input": [
      "random_seed = np.random.random(lenna.shape)\n",
      "random_mask = BooleanNDImage(random_seed > 0.5)\n",
      "print \"the mask's shape is as expected: {}\".format(random_mask.shape)\n",
      "print \"the mask's pixel's shape has the channel for us: {}\".format(random_mask.pixels.shape)\n",
      "random_mask.view()"
     ],
     "language": "python",
     "metadata": {},
     "outputs": []
    },
    {
     "cell_type": "markdown",
     "metadata": {},
     "source": [
      "**blank()**\n",
      "- If you just want a quick all true or all false mask use the `blank()` method. You can rely on this existing on every concrete Image class."
     ]
    },
    {
     "cell_type": "code",
     "collapsed": false,
     "input": [
      "all_true_mask = BooleanNDImage.blank((120, 240))\n",
      "all_false_mask = BooleanNDImage.blank((120, 240), fill=False)"
     ],
     "language": "python",
     "metadata": {},
     "outputs": []
    },
    {
     "cell_type": "markdown",
     "metadata": {},
     "source": [
      "**metrics**\n",
      "- It's trivial to find out how many True and False elements there are in the mask"
     ]
    },
    {
     "cell_type": "code",
     "collapsed": false,
     "input": [
      "print 'n_pixels on random_mask: {}'.format(random_mask.n_pixels)\n",
      "print 'n_true pixels on random_mask: {}'.format(random_mask.n_true)\n",
      "print 'n_false pixels on random_mask: {}'.format(random_mask.n_false)\n",
      "print 'proportion_true on random_mask: {:.3}'.format(random_mask.proportion_true)\n",
      "print 'proportion_false on random_mask: {:.3}'.format(random_mask.proportion_false)"
     ],
     "language": "python",
     "metadata": {},
     "outputs": []
    },
    {
     "cell_type": "markdown",
     "metadata": {},
     "source": [
      "**print**\n",
      "- often, you just want an overview of an image. Just print it to get a quick summary"
     ]
    },
    {
     "cell_type": "code",
     "collapsed": false,
     "input": [
      "print random_mask\n",
      "print lenna\n",
      "print takeo"
     ],
     "language": "python",
     "metadata": {},
     "outputs": []
    },
    {
     "cell_type": "markdown",
     "metadata": {},
     "source": [
      "**true_indices/false_indices** \n",
      "- In addition, `BooleanNDImage` has functionality that aids in the use of the class as a mask to another image. The indices properties give you access to the coordinates of the True and False values as if the mask had been flattened."
     ]
    },
    {
     "cell_type": "code",
     "collapsed": false,
     "input": [
      "from copy import deepcopy\n",
      "small_amount_true = deepcopy(all_false_mask)\n",
      "small_amount_true.pixels[4, 8] = True\n",
      "small_amount_true.pixels[15, 56] = True\n",
      "small_amount_true.pixels[0, 4] = True\n",
      "print small_amount_true.true_indices # note the ordering is incremental C ordered\n",
      "print 'the shape of true indices: {}'.format(small_amount_true.true_indices.shape)\n",
      "print 'the shape of false indices: {}'.format(small_amount_true.false_indices.shape)"
     ],
     "language": "python",
     "metadata": {},
     "outputs": []
    },
    {
     "cell_type": "markdown",
     "metadata": {},
     "source": [
      "**mask**\n",
      "- if you need to directly mask another image of the same size (with an arbitriy number of channels) use the `mask` property. This is used heavily in `MaskedNDImage`."
     ]
    },
    {
     "cell_type": "code",
     "collapsed": false,
     "input": [
      "lenna_masked_pixels_flatted = lenna.pixels[random_mask.mask]\n",
      "lenna_masked_pixels_flatted.shape\n",
      "# note we can only do this as random_mask is the shape of lenna\n",
      "print 'is Lenna and random mask the same shape? {}'.format(lenna.shape == random_mask.shape)"
     ],
     "language": "python",
     "metadata": {},
     "outputs": []
    }
   ],
   "metadata": {}
  }
 ]
}