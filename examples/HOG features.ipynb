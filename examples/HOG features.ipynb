{
 "metadata": {
  "name": ""
 },
 "nbformat": 3,
 "nbformat_minor": 0,
 "worksheets": [
  {
   "cells": [
    {
     "cell_type": "heading",
     "level": 1,
     "metadata": {},
     "source": [
      "HOG Features"
     ]
    },
    {
     "cell_type": "markdown",
     "metadata": {},
     "source": [
      "The HOG (Histogram of Oriented Gradients) descriptors method clusters gradient orientations in different bins for localized sub-windows of the input image, resulting in counting occurences of the orientations.\n",
      "\n",
      "First of all, import all needed packages:"
     ]
    },
    {
     "cell_type": "code",
     "collapsed": false,
     "input": [
      "from pybug.features import hog, view_hog\n",
      "from pybug import data_path_to\n",
      "from pybug.io import auto_import\n",
      "import numpy as np\n",
      "import matplotlib.pyplot as plt\n",
      "import matplotlib.image as mpimg\n",
      "import time"
     ],
     "language": "python",
     "metadata": {},
     "outputs": []
    },
    {
     "cell_type": "markdown",
     "metadata": {},
     "source": [
      "Load and plot Takeo image:"
     ]
    },
    {
     "cell_type": "code",
     "collapsed": false,
     "input": [
      "takeo = auto_import(data_path_to('takeo.ppm'))[0]\n",
      "#takeo = auto_import('/home/nontas/Documents/Research/Code/Features/HOGdescriptor/HOGdescriptorLatest/image_0829.png')[0]\n",
      "#takeo = auto_import('/home/nontas/Documents/Research/Code/Features/HOGdescriptor/HOGdescriptorLatest/image_0251.png')[0]\n",
      "takeo = takeo.pixels\n",
      "plt.imshow(takeo)"
     ],
     "language": "python",
     "metadata": {},
     "outputs": []
    },
    {
     "cell_type": "heading",
     "level": 2,
     "metadata": {},
     "source": [
      "Dense HOG example"
     ]
    },
    {
     "cell_type": "markdown",
     "metadata": {},
     "source": [
      "In the Dense HOG case, we need to provide the window-related options. The window step basically defines how dense/sparse is the output descriptors image, thus it sets the down-sampling factor of the image.\n",
      "\n",
      "Compute descriptors and plot their size. The hog() function basically creates an ImageWindowIterator object and then applies the HOG computation at each window. The returned size should be\n",
      "[numberOfWindowsVertically x numberOfWindowsOrizontally x descriptorLengthPerWindow]:"
     ]
    },
    {
     "cell_type": "code",
     "collapsed": false,
     "input": [
      "t = time.clock()\n",
      "descriptors, window_centers = hog(takeo, \n",
      "        type='dense',\n",
      "        method='dalaltriggs', \n",
      "        cell_size=8,\n",
      "        block_size=2, \n",
      "        num_bins=9, \n",
      "        signed_gradient=True, \n",
      "        l2_norm_clip=0.2,\n",
      "        window_height=1, window_width=1, window_unit='blocks',\n",
      "        window_step_vertical=1, window_step_horizontal=1, window_step_unit='pixels', \n",
      "        padding=True, \n",
      "        verbose=True)\n",
      "t = time.clock()-t\n",
      "print \"Elapsed time = %.2f secs\" % t\n",
      "print \"Input image = %d x %d\" % (takeo.shape[0], takeo.shape[1])\n",
      "print \"Output image = %d x %d x %d\" % (descriptors.shape[0], descriptors.shape[1], descriptors.shape[2])"
     ],
     "language": "python",
     "metadata": {},
     "outputs": []
    },
    {
     "cell_type": "markdown",
     "metadata": {},
     "source": [
      "Plot descriptors:"
     ]
    },
    {
     "cell_type": "code",
     "collapsed": false,
     "input": [
      "for i in range(0,9):\n",
      "    plt.subplot(3,3,1+i)\n",
      "    plt1 = plt.imshow(descriptors[:,:,i],cmap=pylab.gray())\n",
      "    plt1.axes.get_xaxis().set_visible(False)\n",
      "    plt1.axes.get_yaxis().set_visible(False)\n",
      "    plt.title(str(i+1))\n"
     ],
     "language": "python",
     "metadata": {},
     "outputs": []
    },
    {
     "cell_type": "markdown",
     "metadata": {},
     "source": [
      "The default options of the dense type uses the Dalal&Triggs method with a sampling step of one pixel. That is:"
     ]
    },
    {
     "cell_type": "code",
     "collapsed": false,
     "input": [
      "descriptors, window_centers = hog(takeo)\n",
      "plt.imshow(descriptors[:,:,0])"
     ],
     "language": "python",
     "metadata": {},
     "outputs": []
    },
    {
     "cell_type": "heading",
     "level": 2,
     "metadata": {},
     "source": [
      "Sparse HOG example"
     ]
    },
    {
     "cell_type": "markdown",
     "metadata": {},
     "source": [
      "Compute descriptors and plot their size. The size should be [numberOfBlocksPerWindowVertically x numberOfBlocksPerWindowHorizontally x descriptorLengthPerBlock]. \n",
      "\n",
      "The only options that have an effect are the HOG-related options and not the Window-related ones."
     ]
    },
    {
     "cell_type": "code",
     "collapsed": false,
     "input": [
      "t = time.clock()\n",
      "descriptors, window_centers = hog(takeo,\n",
      "                                  type='sparse', \n",
      "                                  method='zhuramanan', \n",
      "                                  num_bins=9,\n",
      "                                  cell_size=4, \n",
      "                                  block_size=2,\n",
      "                                  signed_gradient=1, \n",
      "                                  l2_norm_clip=0.2,\n",
      "                                  verbose=True)\n",
      "t = time.clock()-t\n",
      "print \"Elapsed time = %.2f secs\" % t\n",
      "print \"Input image = %d x %d\" % (takeo.shape[0], takeo.shape[1])\n",
      "print \"Output image = %d x %d x %d\" % (descriptors.shape[0], descriptors.shape[1], descriptors.shape[2])"
     ],
     "language": "python",
     "metadata": {},
     "outputs": []
    },
    {
     "cell_type": "code",
     "collapsed": false,
     "input": [
      "for i in range(0,9):\n",
      "    plt.subplot(3,3,1+i)\n",
      "    plt1 = plt.imshow(descriptors[:,:,i],cmap=pylab.gray())\n",
      "    plt1.axes.get_xaxis().set_visible(False)\n",
      "    plt1.axes.get_yaxis().set_visible(False)\n",
      "    plt.title(str(i+1))"
     ],
     "language": "python",
     "metadata": {},
     "outputs": []
    },
    {
     "cell_type": "code",
     "collapsed": false,
     "input": [
      "im = view_hog(descriptors)\n",
      "plt.imshow(im, cmap=pylab.gray())"
     ],
     "language": "python",
     "metadata": {},
     "outputs": []
    },
    {
     "cell_type": "markdown",
     "metadata": {},
     "source": [
      "And the default sparse hog options return:"
     ]
    },
    {
     "cell_type": "code",
     "collapsed": false,
     "input": [
      "descriptors, window_centers = hog(takeo, type='sparse')\n",
      "im = view_hog(descriptors)\n",
      "plt.imshow(im, cmap=pylab.gray())"
     ],
     "language": "python",
     "metadata": {},
     "outputs": []
    }
   ],
   "metadata": {}
  }
 ]
}