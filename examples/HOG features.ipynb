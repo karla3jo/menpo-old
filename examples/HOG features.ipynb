{
 "metadata": {
  "name": ""
 },
 "nbformat": 3,
 "nbformat_minor": 0,
 "worksheets": [
  {
   "cells": [
    {
     "cell_type": "heading",
     "level": 1,
     "metadata": {},
     "source": [
      "HOG Features"
     ]
    },
    {
     "cell_type": "markdown",
     "metadata": {},
     "source": [
      "The HOG (Histogram of Oriented Gradients) descriptors method clusters gradient orientations in different bins for localized sub-windows of the input image, resulting in counting occurences of the orientations.\n",
      "\n",
      "First of all, import all needed packages:"
     ]
    },
    {
     "cell_type": "code",
     "collapsed": false,
     "input": [
      "from pybug.image.feature import HOG2DImage\n",
      "from pybug import data_path_to\n",
      "from pybug.io import auto_import"
     ],
     "language": "python",
     "metadata": {},
     "outputs": []
    },
    {
     "cell_type": "markdown",
     "metadata": {},
     "source": [
      "Load and plot Takeo image:"
     ]
    },
    {
     "cell_type": "code",
     "collapsed": false,
     "input": [
      "takeo = auto_import(data_path_to('breakingbad.jpg'))[0]\n",
      "#takeo = auto_import('/home/nontas/Documents/Research/Code/Features/HOGdescriptor/HOGdescriptorLatest/image_0829.png')[0]\n",
      "#takeo = auto_import('/home/nontas/Documents/Research/Code/Features/HOGdescriptor/HOGdescriptorLatest/image_0251.png')[0]\n",
      "takeo.crop_to_landmarks(boundary=20)\n",
      "takeo.constrain_mask_to_landmarks()\n",
      "takeo.view(masked=False)"
     ],
     "language": "python",
     "metadata": {},
     "outputs": []
    },
    {
     "cell_type": "heading",
     "level": 2,
     "metadata": {},
     "source": [
      "Dense HOG"
     ]
    },
    {
     "cell_type": "heading",
     "level": 3,
     "metadata": {},
     "source": [
      "User-defined options example"
     ]
    },
    {
     "cell_type": "markdown",
     "metadata": {},
     "source": [
      "In the Dense HOG case, we need to provide the window-related options. The window step basically defines how dense/sparse is the output descriptors image, thus it sets the down-sampling factor of the image.\n",
      "\n",
      "Compute descriptors and plot their size. The hog() function basically creates an ImageWindowIterator object and then applies the HOG computation at each window. The returned size should be\n",
      "[numberOfWindowsVertically x numberOfWindowsOrizontally x descriptorLengthPerWindow]:"
     ]
    },
    {
     "cell_type": "code",
     "collapsed": true,
     "input": [
      "%%time\n",
      "hog = HOG2DImage(takeo.pixels, \n",
      "        method='dense',\n",
      "        algorithm='dalaltriggs', \n",
      "        cell_size=8,\n",
      "        block_size=2, \n",
      "        num_bins=9, \n",
      "        signed_gradient=True, \n",
      "        l2_norm_clip=0.2,\n",
      "        window_height=1, window_width=1, window_unit='blocks',\n",
      "        window_step_vertical=1, window_step_horizontal=1, window_step_unit='pixels', \n",
      "        padding=True, \n",
      "        verbose=False,\n",
      "        mask=takeo.mask)\n",
      "print hog.params"
     ],
     "language": "python",
     "metadata": {},
     "outputs": []
    },
    {
     "cell_type": "code",
     "collapsed": true,
     "input": [
      "hog = HOG2DImage(takeo.pixels, method='sparse', verbose=True, mask=takeo.mask)"
     ],
     "language": "python",
     "metadata": {},
     "outputs": []
    },
    {
     "cell_type": "code",
     "collapsed": false,
     "input": [
      "hog.mask.view()"
     ],
     "language": "python",
     "metadata": {},
     "outputs": []
    },
    {
     "cell_type": "code",
     "collapsed": false,
     "input": [
      "hog.view(vector=True,masked=True,block_size=1)"
     ],
     "language": "python",
     "metadata": {},
     "outputs": []
    },
    {
     "cell_type": "code",
     "collapsed": false,
     "input": [
      "hog.view(vector=False,masked=True,channel=5)"
     ],
     "language": "python",
     "metadata": {},
     "outputs": []
    },
    {
     "cell_type": "code",
     "collapsed": false,
     "input": [
      "takeo.shape"
     ],
     "language": "python",
     "metadata": {},
     "outputs": []
    },
    {
     "cell_type": "code",
     "collapsed": false,
     "input": [
      "takeo.mask.pixels[..., 0][hog.window_centres[:,:,0],hog.window_centres[:,:,1]][..., None].shape"
     ],
     "language": "python",
     "metadata": {},
     "outputs": []
    },
    {
     "cell_type": "code",
     "collapsed": false,
     "input": [],
     "language": "python",
     "metadata": {},
     "outputs": []
    },
    {
     "cell_type": "code",
     "collapsed": false,
     "input": [
      "takeo.mask.pixels.shape"
     ],
     "language": "python",
     "metadata": {},
     "outputs": []
    },
    {
     "cell_type": "markdown",
     "metadata": {},
     "source": [
      "Visualize descriptors as images:"
     ]
    },
    {
     "cell_type": "code",
     "collapsed": false,
     "input": [
      "for i in range(0,9):\n",
      "    plt.subplot(3,3,1+i)\n",
      "    plt1 = plt.imshow(descriptors[:,:,i],cmap=pylab.gray())\n",
      "    plt1.axes.get_xaxis().set_visible(False)\n",
      "    plt1.axes.get_yaxis().set_visible(False)\n",
      "    plt.title(str(i+1))"
     ],
     "language": "python",
     "metadata": {},
     "outputs": []
    },
    {
     "cell_type": "markdown",
     "metadata": {},
     "source": [
      "Visualize descriptors using orientation vectors (glyph):"
     ]
    },
    {
     "cell_type": "code",
     "collapsed": false,
     "input": [
      "im = view_hog(descriptors, block_size=4, num_bins=9)\n",
      "plt.imshow(im, cmap=pylab.gray())"
     ],
     "language": "python",
     "metadata": {},
     "outputs": []
    },
    {
     "cell_type": "heading",
     "level": 3,
     "metadata": {},
     "source": [
      "Default options example"
     ]
    },
    {
     "cell_type": "markdown",
     "metadata": {},
     "source": [
      "The default options of the dense type uses the Dalal&Triggs method with a sampling step of one pixel. That is:"
     ]
    },
    {
     "cell_type": "code",
     "collapsed": false,
     "input": [
      "descriptors, window_centers = hog(takeo)"
     ],
     "language": "python",
     "metadata": {},
     "outputs": []
    },
    {
     "cell_type": "markdown",
     "metadata": {},
     "source": [
      "Visualize the result in both ways:"
     ]
    },
    {
     "cell_type": "code",
     "collapsed": false,
     "input": [
      "for i in range(0,9):\n",
      "    plt.subplot(3,3,1+i)\n",
      "    plt1 = plt.imshow(descriptors[:,:,i],cmap=pylab.gray())\n",
      "    plt1.axes.get_xaxis().set_visible(False)\n",
      "    plt1.axes.get_yaxis().set_visible(False)\n",
      "    plt.title(str(i+1))"
     ],
     "language": "python",
     "metadata": {},
     "outputs": []
    },
    {
     "cell_type": "code",
     "collapsed": false,
     "input": [
      "im = view_hog(descriptors, block_size=10, num_bins=36)\n",
      "plt.imshow(im, cmap=pylab.gray())"
     ],
     "language": "python",
     "metadata": {},
     "outputs": []
    },
    {
     "cell_type": "heading",
     "level": 2,
     "metadata": {},
     "source": [
      "Sparse HOG example"
     ]
    },
    {
     "cell_type": "heading",
     "level": 3,
     "metadata": {},
     "source": [
      "User-defined options example"
     ]
    },
    {
     "cell_type": "markdown",
     "metadata": {},
     "source": [
      "Compute descriptors and plot their size. The size should be [numberOfBlocksPerWindowVertically x numberOfBlocksPerWindowHorizontally x descriptorLengthPerBlock]. \n",
      "\n",
      "The only options that have an effect are the HOG-related options and not the Window-related ones."
     ]
    },
    {
     "cell_type": "code",
     "collapsed": false,
     "input": [
      "t = time.clock()\n",
      "descriptors, window_centers = hog(takeo,\n",
      "                                  type='sparse', \n",
      "                                  method='zhuramanan', \n",
      "                                  num_bins=9,\n",
      "                                  cell_size=4, \n",
      "                                  block_size=2,\n",
      "                                  signed_gradient=1, \n",
      "                                  l2_norm_clip=0.2,\n",
      "                                  verbose=True)\n",
      "t = time.clock()-t\n",
      "print \"Elapsed time = %.2f secs\" % t\n",
      "print \"Input image = %d x %d\" % (takeo.shape[0], takeo.shape[1])\n",
      "print \"Output image = %d x %d x %d\" % (descriptors.shape[0], descriptors.shape[1], descriptors.shape[2])"
     ],
     "language": "python",
     "metadata": {},
     "outputs": []
    },
    {
     "cell_type": "code",
     "collapsed": false,
     "input": [
      "hog_image = HOG2DImage(descriptors,window_centers)\n",
      "print hog_image\n",
      "hog_image.as_vector(keep_channels=True).shape"
     ],
     "language": "python",
     "metadata": {},
     "outputs": []
    },
    {
     "cell_type": "markdown",
     "metadata": {},
     "source": [
      "Visualize descriptors as images:"
     ]
    },
    {
     "cell_type": "code",
     "collapsed": false,
     "input": [
      "for i in range(0,9):\n",
      "    plt.subplot(3,3,1+i)\n",
      "    plt1 = plt.imshow(descriptors[:,:,i],cmap=pylab.gray())\n",
      "    plt1.axes.get_xaxis().set_visible(False)\n",
      "    plt1.axes.get_yaxis().set_visible(False)\n",
      "    plt.title(str(i+1))"
     ],
     "language": "python",
     "metadata": {},
     "outputs": []
    },
    {
     "cell_type": "markdown",
     "metadata": {},
     "source": [
      "Visualize descriptors using orientation vectors (glyph):"
     ]
    },
    {
     "cell_type": "code",
     "collapsed": false,
     "input": [
      "im = view_hog(descriptors, block_size=10, num_bins=31)\n",
      "plt.imshow(im, cmap=pylab.gray())"
     ],
     "language": "python",
     "metadata": {},
     "outputs": []
    },
    {
     "cell_type": "heading",
     "level": 3,
     "metadata": {},
     "source": [
      "Default options example"
     ]
    },
    {
     "cell_type": "code",
     "collapsed": false,
     "input": [
      "descriptors, window_centers = hog(takeo, type='sparse')"
     ],
     "language": "python",
     "metadata": {},
     "outputs": []
    },
    {
     "cell_type": "code",
     "collapsed": false,
     "input": [
      "window_centers[0,0]"
     ],
     "language": "python",
     "metadata": {},
     "outputs": []
    },
    {
     "cell_type": "code",
     "collapsed": false,
     "input": [
      "for i in range(0,9):\n",
      "    plt.subplot(3,3,1+i)\n",
      "    plt1 = plt.imshow(descriptors[:,:,i],cmap=pylab.gray())\n",
      "    plt1.axes.get_xaxis().set_visible(False)\n",
      "    plt1.axes.get_yaxis().set_visible(False)\n",
      "    plt.title(str(i+1))"
     ],
     "language": "python",
     "metadata": {},
     "outputs": []
    },
    {
     "cell_type": "code",
     "collapsed": false,
     "input": [
      "im = view_hog(descriptors)\n",
      "plt.imshow(im, cmap=pylab.gray())"
     ],
     "language": "python",
     "metadata": {},
     "outputs": []
    },
    {
     "cell_type": "heading",
     "level": 1,
     "metadata": {},
     "source": [
      "Visualization"
     ]
    },
    {
     "cell_type": "markdown",
     "metadata": {},
     "source": [
      "The output of the hog features is a multichannel image."
     ]
    },
    {
     "cell_type": "code",
     "collapsed": false,
     "input": [
      "descriptors, window_centers = hog(takeo)\n",
      "print descriptors.shape"
     ],
     "language": "python",
     "metadata": {},
     "outputs": []
    },
    {
     "cell_type": "markdown",
     "metadata": {},
     "source": [
      "As shown in the previous examples, one can visualize each channel separately as an image. However, we can also visualize all descriptor's channels using orintation vectors glyph.\n",
      "\n",
      "The *view_hog()* function takes two optional parameters: *block_size* and *num_bins*.\n",
      "The *num_bins* controls the number of histogram bins that are used for the visualization.\n",
      "The *block_size* controls the blocks from which the drawn vectors are extracted, thus controls the resolution. When you decrease *block_size*, you get better resolution.\n",
      "\n",
      "For example:"
     ]
    },
    {
     "cell_type": "code",
     "collapsed": false,
     "input": [
      "block_size_arr = [4, 10, 20]\n",
      "num_bins = 9\n",
      "\n",
      "k = 0\n",
      "for block_size in block_size_arr:\n",
      "        k +=1;\n",
      "        plt.subplot(1,len(block_size_arr),k)\n",
      "        plt1 = plt.imshow(view_hog(descriptors, block_size=block_size, num_bins=num_bins))\n",
      "        plt1.axes.get_xaxis().set_visible(False)\n",
      "        plt1.axes.get_yaxis().set_visible(False)\n",
      "        plt.title('block_size=' + str(block_size) + ', num_bins=' + str(num_bins))"
     ],
     "language": "python",
     "metadata": {},
     "outputs": []
    }
   ],
   "metadata": {}
  }
 ]
}