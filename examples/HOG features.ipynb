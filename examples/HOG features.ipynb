{
 "metadata": {
  "name": ""
 },
 "nbformat": 3,
 "nbformat_minor": 0,
 "worksheets": [
  {
   "cells": [
    {
     "cell_type": "code",
     "collapsed": false,
     "input": [
      "from pybug.features.cppimagewindowiterator import CppImageWindowIterator\n",
      "import numpy as np\n",
      "import matplotlib.pyplot as plt\n",
      "import matplotlib.image as mpimg\n",
      "import time\n",
      "from pybug import data_path_to\n",
      "from pybug.io import auto_import"
     ],
     "language": "python",
     "metadata": {},
     "outputs": []
    },
    {
     "cell_type": "code",
     "collapsed": false,
     "input": [
      "#takeo_path = data_path_to('takeo.ppm')\n",
      "messi = auto_import('/home/jab08/Downloads/lena.ppm')[0]\n",
      "#greyscale_takeo = takeo.as_greyscale().pixels\n",
      "messi_pixels = messi.pixels"
     ],
     "language": "python",
     "metadata": {},
     "outputs": []
    },
    {
     "cell_type": "code",
     "collapsed": false,
     "input": [
      "messi.view()"
     ],
     "language": "python",
     "metadata": {},
     "outputs": []
    },
    {
     "cell_type": "code",
     "collapsed": false,
     "input": [
      "it = CppImageWindowIterator(messi_pixels, 16, 16, 2, 2, True)\n",
      "outputImage,windowsCenters = it.HOG(1,9,4,2,1,0.2)\n",
      "#it.apply(hog)"
     ],
     "language": "python",
     "metadata": {},
     "outputs": []
    },
    {
     "cell_type": "code",
     "collapsed": false,
     "input": [
      "plt.imshow(outputImage[:,:,0],cmap=pylab.gray())"
     ],
     "language": "python",
     "metadata": {},
     "outputs": []
    },
    {
     "cell_type": "heading",
     "level": 1,
     "metadata": {},
     "source": [
      "HOG Feature Computation"
     ]
    },
    {
     "cell_type": "markdown",
     "metadata": {},
     "source": [
      "First import all needed stuff:"
     ]
    },
    {
     "cell_type": "code",
     "collapsed": false,
     "input": [
      "from pybug import data_path_to\n",
      "from pybug.features_old import sparse_hog, dense_hog\n",
      "from pybug.io import auto_import\n",
      "import numpy as np\n",
      "import matplotlib.pyplot as plt\n",
      "import matplotlib.image as mpimg\n",
      "import time"
     ],
     "language": "python",
     "metadata": {},
     "outputs": []
    },
    {
     "cell_type": "heading",
     "level": 2,
     "metadata": {},
     "source": [
      "Dense HOG example"
     ]
    },
    {
     "cell_type": "markdown",
     "metadata": {},
     "source": [
      "Load and plot Takeo image:"
     ]
    },
    {
     "cell_type": "code",
     "collapsed": false,
     "input": [
      "takeo_path = data_path_to('takeo.ppm')\n",
      "takeo = auto_import(takeo_path)[0]\n",
      "greyscale_takeo = takeo.as_greyscale().pixels\n",
      "takeo = takeo.pixels\n",
      "plt.imshow(takeo,cmap=pylab.gray())"
     ],
     "language": "python",
     "metadata": {},
     "outputs": []
    },
    {
     "cell_type": "markdown",
     "metadata": {},
     "source": [
      "Compute descriptors and plot their size. The size should be\n",
      "[numberOfWindowsVertically x numberOfWindowsOrizontally x numberOfBlocksPerWindowVertically x numberOfBlocksPerWindowHorizontally x descriptorLengthPerBlock]:"
     ]
    },
    {
     "cell_type": "code",
     "collapsed": false,
     "input": [
      "t = time.clock()\n",
      "descriptors, window_centers, opt_info = dense_hog(\n",
      "        takeo, \n",
      "        method='dalaltriggs', \n",
      "        cell_size=4,\n",
      "        block_size=2, \n",
      "        num_orientations=9, \n",
      "        gradient_signed=True, \n",
      "        l2_norm_clip=0.2,\n",
      "        window_height=16, window_width=16, window_unit='pixels',\n",
      "        window_step_vertical=1, window_step_horizontal=1, window_step_unit='pixels', \n",
      "        padding_disabled=False, \n",
      "        verbose=True)\n",
      "t = time.clock()-t\n",
      "print \"Elapsed time = %.2f secs\" % t\n",
      "print \"Input image = %d x %d\" % (takeo.shape[0], takeo.shape[1])\n",
      "print \"Output image = %d x %d x %d x %d x %d\" % (descriptors.shape[0], descriptors.shape[1],\n",
      "                                                 descriptors.shape[2], descriptors.shape[3], descriptors.shape[4])"
     ],
     "language": "python",
     "metadata": {},
     "outputs": []
    },
    {
     "cell_type": "markdown",
     "metadata": {},
     "source": [
      "Reshape descriptors matrix:"
     ]
    },
    {
     "cell_type": "code",
     "collapsed": false,
     "input": [
      "reshaped_descriptors = np.reshape(descriptors,(descriptors.shape[0],descriptors.shape[1],-1))\n",
      "print \"Reshaped descriptors = %d x %d x %d\" % (reshaped_descriptors.shape[0], reshaped_descriptors.shape[1],\n",
      "                                               reshaped_descriptors.shape[2])"
     ],
     "language": "python",
     "metadata": {},
     "outputs": []
    },
    {
     "cell_type": "markdown",
     "metadata": {},
     "source": [
      "Plot descriptors:"
     ]
    },
    {
     "cell_type": "code",
     "collapsed": false,
     "input": [
      "for i in range(0,9):\n",
      "    plt.subplot(3,3,1+i)\n",
      "    plt1 = plt.imshow(reshaped_descriptors[:,:,i])\n",
      "    plt1.axes.get_xaxis().set_visible(False)\n",
      "    plt1.axes.get_yaxis().set_visible(False)\n",
      "    plt.title(str(i+1))\n"
     ],
     "language": "python",
     "metadata": {},
     "outputs": []
    },
    {
     "cell_type": "code",
     "collapsed": false,
     "input": [
      "plt.imshow(reshaped_descriptors[:,:,0])"
     ],
     "language": "python",
     "metadata": {},
     "outputs": []
    },
    {
     "cell_type": "heading",
     "level": 2,
     "metadata": {},
     "source": [
      "Sparse HOG example"
     ]
    },
    {
     "cell_type": "markdown",
     "metadata": {},
     "source": [
      "Load and plot Takeo image:"
     ]
    },
    {
     "cell_type": "code",
     "collapsed": false,
     "input": [
      "takeo_path = data_path_to('takeo.ppm')\n",
      "takeo = auto_import(takeo_path)[0]\n",
      "greyscale_takeo = takeo.as_greyscale().pixels\n",
      "takeo = takeo.pixels\n",
      "plt.imshow(takeo,cmap=pylab.gray())"
     ],
     "language": "python",
     "metadata": {},
     "outputs": []
    },
    {
     "cell_type": "markdown",
     "metadata": {},
     "source": [
      "Compute descriptors and plot their size. The size should be [numberOfBlocksPerWindowVertically x numberOfBlocksPerWindowHorizontally x descriptorLengthPerBlock]:"
     ]
    },
    {
     "cell_type": "code",
     "collapsed": false,
     "input": [
      "t = time.clock()\n",
      "descriptors, window_centers, opt_info = sparse_hog(\n",
      "        takeo, verbose=True, method='zhuramanan', num_orientations=9,\n",
      "        cell_size=4, block_size=2,\n",
      "        gradient_signed=1, l2_norm_clip=0.2)\n",
      "t = time.clock()-t\n",
      "print \"Elapsed time = %.2f secs\" % t\n",
      "print \"Input image = %d x %d\" % (takeo.shape[0], takeo.shape[1])\n",
      "print \"Output image = %d x %d x %d\" % (descriptors.shape[0], descriptors.shape[1], descriptors.shape[2])"
     ],
     "language": "python",
     "metadata": {},
     "outputs": []
    },
    {
     "cell_type": "code",
     "collapsed": false,
     "input": [
      "for i in range(0,9):\n",
      "    plt.subplot(3,3,1+i)\n",
      "    plt1 = plt.imshow(descriptors[:,:,i])\n",
      "    plt1.axes.get_xaxis().set_visible(False)\n",
      "    plt1.axes.get_yaxis().set_visible(False)\n",
      "    plt.title(str(i+1))"
     ],
     "language": "python",
     "metadata": {},
     "outputs": []
    },
    {
     "cell_type": "code",
     "collapsed": true,
     "input": [],
     "language": "python",
     "metadata": {},
     "outputs": []
    }
   ],
   "metadata": {}
  }
 ]
}