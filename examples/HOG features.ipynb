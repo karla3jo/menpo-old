{
 "metadata": {
  "name": ""
 },
 "nbformat": 3,
 "nbformat_minor": 0,
 "worksheets": [
  {
   "cells": [
    {
     "cell_type": "heading",
     "level": 1,
     "metadata": {},
     "source": [
      "HOG Feature Computation"
     ]
    },
    {
     "cell_type": "markdown",
     "metadata": {},
     "source": [
      "First import all needed stuff:"
     ]
    },
    {
     "cell_type": "code",
     "collapsed": false,
     "input": [
      "from pybug import data_path_to\n",
      "from pybug.features.hog import sparse_hog, dense_hog\n",
      "from pybug.io import auto_import\n",
      "import numpy as np\n",
      "import matplotlib.pyplot as plt\n",
      "import matplotlib.image as mpimg\n",
      "import numpy as np"
     ],
     "language": "python",
     "metadata": {},
     "outputs": []
    },
    {
     "cell_type": "heading",
     "level": 2,
     "metadata": {},
     "source": [
      "Dense HOG example"
     ]
    },
    {
     "cell_type": "markdown",
     "metadata": {},
     "source": [
      "Load and plot Takeo image:"
     ]
    },
    {
     "cell_type": "code",
     "collapsed": false,
     "input": [
      "takeo_path = data_path_to('takeo.ppm')\n",
      "takeo = auto_import(takeo_path)[0]\n",
      "greyscale_takeo = takeo.as_greyscale().pixels\n",
      "takeo = takeo.pixels\n",
      "plt.imshow(takeo,cmap=pylab.gray())"
     ],
     "language": "python",
     "metadata": {},
     "outputs": []
    },
    {
     "cell_type": "markdown",
     "metadata": {},
     "source": [
      "Compute descriptors and plot their size. The size should be\n",
      "[numberOfWindowsVertically x numberOfWindowsOrizontally x numberOfBlocksPerWindowVertically x numberOfBlocksPerWindowHorizontally x descriptorLengthPerBlock]:"
     ]
    },
    {
     "cell_type": "code",
     "collapsed": false,
     "input": [
      "descriptors, window_centers, opt_info = dense_hog(\n",
      "        takeo, method='dalaltriggs', num_orientations=9, cell_size=4,\n",
      "        block_size=2, gradient_signed=True, l2_norm_clip=0.2,\n",
      "        window_height=16, window_width=16, window_unit='pixels',\n",
      "        window_step_vertical=1, window_step_horizontal=1,\n",
      "        window_step_unit='pixels', padding_enabled=True, verbose=True)\n",
      "descriptors.shape"
     ],
     "language": "python",
     "metadata": {},
     "outputs": []
    },
    {
     "cell_type": "markdown",
     "metadata": {},
     "source": [
      "Reshape descriptors matrix:"
     ]
    },
    {
     "cell_type": "code",
     "collapsed": false,
     "input": [
      "reshaped_descriptors = np.reshape(descriptors,(descriptors.shape[0],descriptors.shape[1],-1))\n",
      "reshaped_descriptors.shape"
     ],
     "language": "python",
     "metadata": {},
     "outputs": []
    },
    {
     "cell_type": "markdown",
     "metadata": {},
     "source": [
      "Plot descriptors:"
     ]
    },
    {
     "cell_type": "code",
     "collapsed": false,
     "input": [
      "for i in range(0,9):\n",
      "    plt.subplot(3,3,1+i)\n",
      "    plt1 = plt.imshow(reshaped_descriptors[:,:,i])\n",
      "    plt1.axes.get_xaxis().set_visible(False)\n",
      "    plt1.axes.get_yaxis().set_visible(False)\n",
      "    plt.title(str(i+1))\n"
     ],
     "language": "python",
     "metadata": {},
     "outputs": []
    },
    {
     "cell_type": "code",
     "collapsed": false,
     "input": [
      "plt.imshow(reshaped_descriptors[:,:,0])"
     ],
     "language": "python",
     "metadata": {},
     "outputs": []
    },
    {
     "cell_type": "heading",
     "level": 2,
     "metadata": {},
     "source": [
      "Sparse HOG example"
     ]
    },
    {
     "cell_type": "markdown",
     "metadata": {},
     "source": [
      "Load and plot Takeo image:"
     ]
    },
    {
     "cell_type": "code",
     "collapsed": false,
     "input": [
      "takeo_path = data_path_to('takeo.ppm')\n",
      "takeo = auto_import(takeo_path)[0]\n",
      "greyscale_takeo = takeo.as_greyscale().pixels\n",
      "takeo = takeo.pixels\n",
      "plt.imshow(takeo,cmap=pylab.gray())"
     ],
     "language": "python",
     "metadata": {},
     "outputs": []
    },
    {
     "cell_type": "markdown",
     "metadata": {},
     "source": [
      "Compute descriptors and plot their size. The size should be [numberOfBlocksPerWindowVertically x numberOfBlocksPerWindowHorizontally x descriptorLengthPerBlock]:"
     ]
    },
    {
     "cell_type": "code",
     "collapsed": false,
     "input": [
      "descriptors, window_centers, opt_info = sparse_hog(\n",
      "        takeo, verbose=True, method='zhuramanan', num_orientations=9,\n",
      "        cell_size=4, block_size=2,\n",
      "        gradient_signed=1, l2_norm_clip=0.2)\n",
      "descriptors.shape"
     ],
     "language": "python",
     "metadata": {},
     "outputs": []
    },
    {
     "cell_type": "code",
     "collapsed": false,
     "input": [
      "reshaped_descriptors = np.squeeze(descriptors)\n",
      "reshaped_descriptors.shape"
     ],
     "language": "python",
     "metadata": {},
     "outputs": []
    },
    {
     "cell_type": "code",
     "collapsed": false,
     "input": [],
     "language": "python",
     "metadata": {},
     "outputs": []
    }
   ],
   "metadata": {}
  }
 ]
}