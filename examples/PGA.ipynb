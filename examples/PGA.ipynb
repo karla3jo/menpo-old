{
 "metadata": {
  "name": ""
 },
 "nbformat": 3,
 "nbformat_minor": 0,
 "worksheets": [
  {
   "cells": [
    {
     "cell_type": "code",
     "collapsed": false,
     "input": [
      "def normalise_vector(v):\n",
      "    return v / np.sqrt(np.sum(v ** 2, axis=-1))[..., None]\n",
      "\n",
      "def row_norm(v):\n",
      "    return np.sqrt(np.sum(v ** 2, axis=-1))"
     ],
     "language": "python",
     "metadata": {},
     "outputs": [],
     "prompt_number": 61
    },
    {
     "cell_type": "code",
     "collapsed": false,
     "input": [
      "def logmap_stereographic(b, q):\n",
      "    # Any zero length vectors should remain the base vector\n",
      "    zero_indices = np.sum(np.abs(q), axis=1) == 0.0\n",
      "    \n",
      "    # dist(-b, x)\n",
      "    dist_nbx = row_norm(b + q)\n",
      "    # dist(b, x)\n",
      "    dist_bx = row_norm(q - b)\n",
      "    \n",
      "    alpha = np.arccos((4.0 + (dist_nbx ** 2) - (dist_bx ** 2)) / (4.0 * dist_nbx))\n",
      "    \n",
      "    vprime = ((2.0 * (b + q)) / (dist_nbx * np.cos(alpha))[..., None]) - b;\n",
      "    theta = np.arccos((b * q).sum(-1))\n",
      "    \n",
      "    v = b + ((theta[..., None] * (vprime - b)) / row_norm(vprime - b)[..., None])\n",
      "    # Map base vectors back\n",
      "    v[zero_indices, :] = b[zero_indices, :]\n",
      "    v[np.isnan(v), :] = b[np.isnan(v), :]\n",
      "    return v\n",
      "    \n",
      "def logmap_sphere(b, q):\n",
      "    # Any zero length vectors should remain the base vector\n",
      "    zero_indices = np.sum(np.abs(q), axis=1) == 0.0\n",
      "    \n",
      "    theta = np.arccos((b * q).sum(-1))[..., None]\n",
      "    v = (theta / sin(theta)) * (q - b * np.cos(theta));\n",
      "    \n",
      "    # Map base vectors back\n",
      "    v[zero_indices, :] = b[zero_indices, :]\n",
      "    return v\n",
      "\n",
      "def rotate_north_pole(vector):\n",
      "    \"\"\"\n",
      "    Rotation matrix that rotates vector to the north pole.\n",
      "    Expects K vectors (K, 3)\n",
      "    \"\"\"\n",
      "    K = vector.shape[0]\n",
      "    rotation_matrices = np.zeros([K, 3, 3])\n",
      "    \n",
      "    for i in xrange(K):\n",
      "        st = normalise_vector(vector[i, :])\n",
      "        acangle = st[2]\n",
      "        cosa = acangle\n",
      "        sina = np.sqrt(1 - acangle ** 2)\n",
      "        \n",
      "        if (1 - acangle) > np.spacing(1):\n",
      "            v = np.array([st[1], -st[0], 0.0]) / sina\n",
      "        else:\n",
      "            v = np.array([0.0, 0.0, 0.0])\n",
      "        \n",
      "        vera = 1.0 - cosa\n",
      "    \n",
      "        x = v[0]\n",
      "        y = v[1]\n",
      "        z = v[2]\n",
      "    \n",
      "        rotation_matrices[i, :, :] = [[cosa + x**2 * vera, x * y * vera - z * sina, x * z * vera + y * sina],\n",
      "                                      [x * y * vera + z * sina, cosa + y**2 * vera, y * z * vera - x * sina],\n",
      "                                      [x * z * vera - y * sina, y * z * vera + x * sina, cosa + z**2 * vera]]\n",
      "    \n",
      "    return rotation_matrices\n",
      "    \n",
      "\n",
      "def logmap_northpole(b, q):\n",
      "    # Rotate the data around the mean point to a small circle centered at the North pole\n",
      "    rotation_matrices = rotate_north_pole(b)\n",
      "    rotated_data = np.einsum('kjl, klm -> kj', rotation_matrices, q[..., None])\n",
      "\n",
      "    # Perform the North Pole Logmap\n",
      "    # theta / sin(theta)\n",
      "    scales = np.arccos(rotated_data[:, 2]) / np.sqrt(1.0 - rotated_data[:, 2]**2)\n",
      "    scales[np.isnan(scales)] = 1.0\n",
      "    # Build the column vector the transpose for correct ordering\n",
      "    return np.squeeze(np.array([[rotated_data[:, 0] * scales], [rotated_data[:, 1] * scales]])).T"
     ],
     "language": "python",
     "metadata": {},
     "outputs": [],
     "prompt_number": 62
    },
    {
     "cell_type": "code",
     "collapsed": false,
     "input": [
      "import scipy.linalg\n",
      "\n",
      "def expmap_stereographic(b, v):\n",
      "    # Any zero length vectors should remain the base vector\n",
      "    zero_indices = np.sum(np.abs(v), axis=1) == 0.0\n",
      "\n",
      "    theta = row_norm(b - v)[..., None]\n",
      "    \n",
      "    # dist(-b,x)\n",
      "    dist_nbx = np.sqrt(2.0 * (1.0 + np.cos(theta)))\n",
      "    # dist(b,x)\n",
      "    dist_bx = 2 * np.sin(theta / 2.0)\n",
      "    \n",
      "    alpha = np.arccos((4.0 + dist_nbx ** 2 - dist_bx ** 2) / (4.0 * dist_nbx))\n",
      "    \n",
      "    vprime = b + (((v - b) * 2.0 * np.tan(alpha)) / scipy.linalg.norm(v - b))\n",
      "    \n",
      "    n = dist_nbx * ((vprime + b) / row_norm(vprime + b)[..., None]) - b\n",
      "\n",
      "    # Map base vectors back\n",
      "    n[zero_indices, :] = b[zero_indices, :]\n",
      "    n[np.isnan(n), :] = b[np.isnan(n), :]\n",
      "    return n\n",
      "\n",
      "def expmap_sphere(b, v):\n",
      "    # Any zero length vectors should remain the base vector\n",
      "    zero_indices = np.sum(np.abs(v), axis=1) == 0.0\n",
      "    \n",
      "    vnorm = row_norm(v)[..., None]\n",
      "    n = np.cos(vnorm) * b + np.sin(vnorm) * (v / vnorm)\n",
      "    \n",
      "    # Map base vectors back\n",
      "    if np.any(zero_indices):\n",
      "        n[zero_indices, :] = b[zero_indices, :]\n",
      "    n[np.isnan(n), :] = b[np.isnan(n), :]\n",
      "    \n",
      "    #n = normalise_vector(n)\n",
      "    return n\n",
      "\n",
      "def expmap_northpole(b, v):\n",
      "    # Expmap\n",
      "    v1  = v[:, 0]\n",
      "    v2  = v[:, 1]\n",
      "    normv = row_norm(v)\n",
      "    exp = np.asarray(np.real([[v1 * np.sin(normv) / normv],\n",
      "                              [v2 * np.sin(normv) / normv],\n",
      "                              [np.cos(normv)]])).T\n",
      "    near_zero_ind = normv < np.spacing(1)\n",
      "    exp[near_zero_ind, :] = [0.0, 0.0, 1.0]\n",
      "    \n",
      "    # Rotate back to geodesic mean from north pole\n",
      "    print\n",
      "    rotation_matrices = rotate_north_pole(b)\n",
      "    exp = np.einsum('kjl, kjm -> kl', rotation_matrices, exp[..., None])\n",
      "    return exp)"
     ],
     "language": "python",
     "metadata": {},
     "outputs": [],
     "prompt_number": 92
    },
    {
     "cell_type": "code",
     "collapsed": false,
     "input": [
      "N = normalise_vector(np.random.uniform(low=-1.0, high=1.0, size=(10000, 3)))\n",
      "bp = normalise_vector(np.random.uniform(low=-1.0, high=1.0, size=(10000, 3)))"
     ],
     "language": "python",
     "metadata": {},
     "outputs": [],
     "prompt_number": 95
    },
    {
     "cell_type": "code",
     "collapsed": false,
     "input": [
      "np.allclose(expmap_northpole(bp, logmap_northpole(bp, N)), N)"
     ],
     "language": "python",
     "metadata": {},
     "outputs": [
      {
       "ename": "ValueError",
       "evalue": "operand has more dimensions than subscripts given in einstein sum, but no '...' ellipsis provided to broadcast the extra dimensions.",
       "output_type": "pyerr",
       "traceback": [
        "\u001b[1;31m---------------------------------------------------------------------------\u001b[0m\n\u001b[1;31mValueError\u001b[0m                                Traceback (most recent call last)",
        "\u001b[1;32m<ipython-input-96-f74ba3a2f359>\u001b[0m in \u001b[0;36m<module>\u001b[1;34m()\u001b[0m\n\u001b[1;32m----> 1\u001b[1;33m \u001b[0mnp\u001b[0m\u001b[1;33m.\u001b[0m\u001b[0mallclose\u001b[0m\u001b[1;33m(\u001b[0m\u001b[0mexpmap_northpole\u001b[0m\u001b[1;33m(\u001b[0m\u001b[0mbp\u001b[0m\u001b[1;33m,\u001b[0m \u001b[0mlogmap_northpole\u001b[0m\u001b[1;33m(\u001b[0m\u001b[0mbp\u001b[0m\u001b[1;33m,\u001b[0m \u001b[0mN\u001b[0m\u001b[1;33m)\u001b[0m\u001b[1;33m)\u001b[0m\u001b[1;33m,\u001b[0m \u001b[0mN\u001b[0m\u001b[1;33m)\u001b[0m\u001b[1;33m\u001b[0m\u001b[0m\n\u001b[0m",
        "\u001b[1;32m<ipython-input-92-87f6853c24e4>\u001b[0m in \u001b[0;36mexpmap_northpole\u001b[1;34m(b, v)\u001b[0m\n\u001b[0;32m     51\u001b[0m     \u001b[1;31m# Rotate back to geodesic mean from north pole\u001b[0m\u001b[1;33m\u001b[0m\u001b[1;33m\u001b[0m\u001b[0m\n\u001b[0;32m     52\u001b[0m     \u001b[0mrotation_matrices\u001b[0m \u001b[1;33m=\u001b[0m \u001b[0mrotate_north_pole\u001b[0m\u001b[1;33m(\u001b[0m\u001b[0mb\u001b[0m\u001b[1;33m)\u001b[0m\u001b[1;33m\u001b[0m\u001b[0m\n\u001b[1;32m---> 53\u001b[1;33m     \u001b[0mexp\u001b[0m \u001b[1;33m=\u001b[0m \u001b[0mnp\u001b[0m\u001b[1;33m.\u001b[0m\u001b[0meinsum\u001b[0m\u001b[1;33m(\u001b[0m\u001b[1;34m'kjl, kjm -> kl'\u001b[0m\u001b[1;33m,\u001b[0m \u001b[0mrotation_matrices\u001b[0m\u001b[1;33m,\u001b[0m \u001b[0mexp\u001b[0m\u001b[1;33m[\u001b[0m\u001b[1;33m.\u001b[0m\u001b[1;33m.\u001b[0m\u001b[1;33m.\u001b[0m\u001b[1;33m,\u001b[0m \u001b[0mNone\u001b[0m\u001b[1;33m]\u001b[0m\u001b[1;33m)\u001b[0m\u001b[1;33m\u001b[0m\u001b[0m\n\u001b[0m\u001b[0;32m     54\u001b[0m     \u001b[1;32mreturn\u001b[0m \u001b[0mnp\u001b[0m\u001b[1;33m.\u001b[0m\u001b[0msqueeze\u001b[0m\u001b[1;33m(\u001b[0m\u001b[0mexp\u001b[0m\u001b[1;33m)\u001b[0m\u001b[1;33m\u001b[0m\u001b[0m\n",
        "\u001b[1;31mValueError\u001b[0m: operand has more dimensions than subscripts given in einstein sum, but no '...' ellipsis provided to broadcast the extra dimensions."
       ]
      }
     ],
     "prompt_number": 96
    },
    {
     "cell_type": "code",
     "collapsed": false,
     "input": [
      "mlab.points3d(N[:, 0], N[:, 1], N[:, 2], scale_mode='none')"
     ],
     "language": "python",
     "metadata": {},
     "outputs": [
      {
       "metadata": {},
       "output_type": "pyout",
       "prompt_number": 74,
       "text": [
        "<mayavi.modules.glyph.Glyph at 0xbd1e770>"
       ]
      }
     ],
     "prompt_number": 74
    }
   ],
   "metadata": {}
  }
 ]
}