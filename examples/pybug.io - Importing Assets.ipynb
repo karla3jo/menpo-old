{
 "metadata": {
  "name": ""
 },
 "nbformat": 3,
 "nbformat_minor": 0,
 "worksheets": [
  {
   "cells": [
    {
     "cell_type": "code",
     "collapsed": false,
     "input": [
      "import pybug.io as pio"
     ],
     "language": "python",
     "metadata": {},
     "outputs": []
    },
    {
     "cell_type": "markdown",
     "metadata": {},
     "source": [
      "Before we get started, PyBug has a small cache of test assets shipped with it for example and testing purposes. You can get the filepath of this folder on your system easily"
     ]
    },
    {
     "cell_type": "code",
     "collapsed": false,
     "input": [
      "data_dir = pio.data_dir_path()\n",
      "print 'shipped data is at {}'.format(data_dir)\n",
      "import os\n",
      "os.listdir(data_dir)"
     ],
     "language": "python",
     "metadata": {},
     "outputs": []
    },
    {
     "cell_type": "markdown",
     "metadata": {},
     "source": [
      "A convienience function is provided in the `io` package to make life easier"
     ]
    },
    {
     "cell_type": "code",
     "collapsed": false,
     "input": [
      "builtin_assets = pio.ls_builtin_assets()\n",
      "print builtin_assets"
     ],
     "language": "python",
     "metadata": {},
     "outputs": []
    },
    {
     "cell_type": "markdown",
     "metadata": {},
     "source": [
      "`data_path_to(filename)` can be used to get a path to examples from the folder. For instance, let's say you want to get a path to the `bunny.obj` file... "
     ]
    },
    {
     "cell_type": "code",
     "collapsed": false,
     "input": [
      "bunny_path = pio.data_path_to('bunny.obj')\n",
      "print 'a bunny lives at {}'.format(bunny_path)"
     ],
     "language": "python",
     "metadata": {},
     "outputs": []
    },
    {
     "cell_type": "markdown",
     "metadata": {},
     "source": [
      "The 6 `pybug.io` importing functions can be broken into two groups\n",
      "\n",
      "\n",
      "*Single asset importers*\n",
      "\n",
      "- `import_image`\n",
      "- `import_mesh`\n",
      "- `import_landmarks`\n",
      "- `import_builtin_asset`\n",
      "\n",
      "\n",
      "*Multi asset importers*\n",
      "\n",
      "- `import_images`\n",
      "- `import_meshes`\n",
      "- `import_auto`"
     ]
    },
    {
     "cell_type": "markdown",
     "metadata": {},
     "source": [
      "**Single Asset Importers**\n",
      "\n",
      "Let's start by seeing how the basic single importers work."
     ]
    },
    {
     "cell_type": "code",
     "collapsed": false,
     "input": [
      "bunny = pio.import_mesh(bunny_path)\n",
      "print bunny"
     ],
     "language": "python",
     "metadata": {},
     "outputs": []
    },
    {
     "cell_type": "code",
     "collapsed": false,
     "input": [
      "%matplotlib wx\n",
      "bunny.view()"
     ],
     "language": "python",
     "metadata": {},
     "outputs": []
    },
    {
     "cell_type": "markdown",
     "metadata": {},
     "source": [
      "This still feels a little bit like too much hard work though. For built in files just use `import_builtin_asset(asset_name)`, no need to deal with the paths manually"
     ]
    },
    {
     "cell_type": "code",
     "collapsed": false,
     "input": [
      "same_bunny_less_hassle = pio.import_builtin_asset('bunny.obj')\n",
      "print same_bunny_less_hassle"
     ],
     "language": "python",
     "metadata": {},
     "outputs": []
    },
    {
     "cell_type": "markdown",
     "metadata": {},
     "source": [
      "All imported objects get stamped with the filepath. *Note that this API may change in time if we introduce a metadata dict on shapes - don't write code to rely on it's existance!*"
     ]
    },
    {
     "cell_type": "code",
     "collapsed": false,
     "input": [
      "print 'this bunny came from {}'.format(bunny.filepath)"
     ],
     "language": "python",
     "metadata": {},
     "outputs": []
    },
    {
     "cell_type": "markdown",
     "metadata": {},
     "source": [
      "Let's try a few more examples. How about provided images?"
     ]
    },
    {
     "cell_type": "code",
     "collapsed": false,
     "input": [
      "%matplotlib inline\n",
      "# builtin asset handles both images and meshes\n",
      "takeo = pio.import_builtin_asset('takeo.ppm') \n",
      "takeo.view()"
     ],
     "language": "python",
     "metadata": {},
     "outputs": []
    },
    {
     "cell_type": "code",
     "collapsed": false,
     "input": [
      "%matplotlib inline\n",
      "bb = pio.import_builtin_asset('breakingbad.jpg')\n",
      "bb.view()"
     ],
     "language": "python",
     "metadata": {},
     "outputs": []
    },
    {
     "cell_type": "markdown",
     "metadata": {},
     "source": [
      "Note that landmark files are automatically detected by the IO module and applied to assets. For instance, the *breakingbad.jpg* had alongside it a *breakingbad.pts* file..."
     ]
    },
    {
     "cell_type": "code",
     "collapsed": false,
     "input": [
      "%matplotlib inline\n",
      "print 'breaking bad assets are: {}'.format([a for a in builtin_assets if a.startswith('breakingbad')])\n",
      "print bb.landmarks\n",
      "bb.landmarks.view()"
     ],
     "language": "python",
     "metadata": {},
     "outputs": []
    },
    {
     "cell_type": "markdown",
     "metadata": {},
     "source": [
      "Of course, if we were feeling more verbose we could have used the `import_image(filepath)` function having found the breaking bad image for ourselves"
     ]
    },
    {
     "cell_type": "code",
     "collapsed": false,
     "input": [
      "%matplotlib inline\n",
      "new_mexico = pio.data_path_to('breakingbad.jpg')\n",
      "print 'Walter White lives at {}'.format(new_mexico)\n",
      "walter_2 = pio.import_image(new_mexico)\n",
      "walter_2.view()  # exactly the same!"
     ],
     "language": "python",
     "metadata": {},
     "outputs": []
    },
    {
     "cell_type": "markdown",
     "metadata": {},
     "source": [
      "The three importers we have looked at so far are for retrieving single items, and expect exact filepaths. If you provide an invalid path, or a path to something that can't be imported, you will get a `ValueError` explaining what went wrong"
     ]
    },
    {
     "cell_type": "code",
     "collapsed": false,
     "input": [
      "try:\n",
      "    pio.import_image('/lol/I/bet/this/isnt/an/image/on/your/system.jpg')\n",
      "except ValueError as e:\n",
      "    print e"
     ],
     "language": "python",
     "metadata": {},
     "outputs": []
    },
    {
     "cell_type": "markdown",
     "metadata": {},
     "source": [
      "**Multi Asset importers**\n",
      "\n",
      "\n",
      "The final three `import_*` functions are the bulk importers. All three are **generators**, which means they *yield* the files they find one at a time, and support `for` looping. All three also expect a glob pattern to match against."
     ]
    },
    {
     "cell_type": "code",
     "collapsed": false,
     "input": [
      "all_data_files = pio.data_dir_path() + '/*'\n",
      "print 'glob to find all inbuilt files: {}'.format(all_data_files)\n",
      "for image in pio.import_images(all_data_files):\n",
      "    print image"
     ],
     "language": "python",
     "metadata": {},
     "outputs": []
    },
    {
     "cell_type": "markdown",
     "metadata": {},
     "source": [
      "Note that as we used `import_images()` all images in the data folder were returned to us one by one. If we want to get them all we can wrap the generator in a list constructor"
     ]
    },
    {
     "cell_type": "code",
     "collapsed": false,
     "input": [
      "images = list(pio.import_images(all_data_files))\n",
      "print images"
     ],
     "language": "python",
     "metadata": {},
     "outputs": []
    },
    {
     "cell_type": "markdown",
     "metadata": {},
     "source": [
      "Or we can use the generator to be selective on import. Often when importing large datasets of images we want to crop all the images in some way. It would be problematic to import all the images into memory at maximum size and then crop them en masse. With the generator we can crop as we go, and keep memory usage low "
     ]
    },
    {
     "cell_type": "code",
     "collapsed": false,
     "input": [
      "cropped_images = []\n",
      "for image in pio.import_images(all_data_files):\n",
      "    image.crop((0, 0), (100, 100))\n",
      "    cropped_images.append(image)\n",
      "for image in cropped_images:\n",
      "    print image"
     ],
     "language": "python",
     "metadata": {},
     "outputs": []
    },
    {
     "cell_type": "markdown",
     "metadata": {},
     "source": [
      "Of course, `import_meshes()` follows exactly the same rules"
     ]
    },
    {
     "cell_type": "code",
     "collapsed": false,
     "input": [
      "for mesh in pio.import_meshes(all_data_files):\n",
      "    print mesh\n",
      "# note there is only one mesh in the data file at present!"
     ],
     "language": "python",
     "metadata": {},
     "outputs": []
    },
    {
     "cell_type": "markdown",
     "metadata": {},
     "source": [
      "Sometimes, you may wish to import a mixed bag of data. This may include meshes, their textures, and other images. You want the meshes to have their textures attached, but you don't want the textures importing as seperate images in their own right. `import_auto()` sorts all this out for you "
     ]
    },
    {
     "cell_type": "code",
     "collapsed": false,
     "input": [
      "for asset in pio.import_auto(all_data_files):\n",
      "    print asset"
     ],
     "language": "python",
     "metadata": {},
     "outputs": []
    }
   ],
   "metadata": {}
  }
 ]
}