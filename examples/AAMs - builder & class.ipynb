{
 "metadata": {
  "name": ""
 },
 "nbformat": 3,
 "nbformat_minor": 0,
 "worksheets": [
  {
   "cells": [
    {
     "cell_type": "markdown",
     "metadata": {},
     "source": [
      "#### 1. Load Training Data"
     ]
    },
    {
     "cell_type": "code",
     "collapsed": false,
     "input": [
      "from pybug.io import auto_import\n",
      "from pybug.image import RGBImage, MaskedNDImage\n",
      "\n",
      "images = auto_import('/Users/joan/PhD/DataBases/lfpw/trainset/*.png')\n",
      "images = [i.as_greyscale() if type(i) is RGBImage else i for i in images]\n",
      "\n",
      "new_images = []\n",
      "for i in images:\n",
      "    img = MaskedNDImage(i.pixels)\n",
      "    img.landmarks = i.landmarks\n",
      "    new_images.append(img)\n",
      "images = new_images\n",
      "\n",
      "del new_images"
     ],
     "language": "python",
     "metadata": {},
     "outputs": []
    },
    {
     "cell_type": "markdown",
     "metadata": {},
     "source": [
      "#### 2. Build AAMs"
     ]
    },
    {
     "cell_type": "code",
     "collapsed": false,
     "input": [
      "from pybug.activeappearancemodel import aam_builder, AAM\n",
      "from pybug.transform.tps import TPS\n",
      "from pybug.landmark import ibug_68_trimesh\n",
      "\n",
      "options = {'triangulation': {'function': ibug_68_trimesh, 'label': 'ibug_68_trimesh'},\n",
      "           'features': {'type': None, 'options': {'kwargs': None}},\n",
      "           'max_shape_components': 25,\n",
      "           'max_appearance_components': 250}\n",
      "\n",
      "aam = aam_builder(images, **options)"
     ],
     "language": "python",
     "metadata": {},
     "outputs": []
    },
    {
     "cell_type": "markdown",
     "metadata": {},
     "source": [
      "#### 3. View Instance"
     ]
    },
    {
     "cell_type": "code",
     "collapsed": false,
     "input": [
      "aam.instance(np.random.randn(20), np.random.randn(100), level=-1).view()"
     ],
     "language": "python",
     "metadata": {},
     "outputs": []
    },
    {
     "cell_type": "markdown",
     "metadata": {},
     "source": [
      "#### 4. Load Test Data"
     ]
    },
    {
     "cell_type": "code",
     "collapsed": false,
     "input": [
      "# load the training images of the LFPW database as landmarked images using the autoimporter\n",
      "images = auto_import('/Users/joan/PhD/DataBases/lfpw/testset/*.png', max_images= 10)\n",
      "images = [i.as_greyscale() if type(i) is RGBImage else i for i in images]\n",
      "\n",
      "new_images = []\n",
      "for i in images:\n",
      "    img = MaskedNDImage(i.pixels)\n",
      "    img.landmarks = i.landmarks\n",
      "    new_images.append(img)\n",
      "images = new_images\n",
      "\n",
      "del new_images"
     ],
     "language": "python",
     "metadata": {},
     "outputs": []
    },
    {
     "cell_type": "markdown",
     "metadata": {},
     "source": [
      "#### 5. Fit AAM to Test Data"
     ]
    },
    {
     "cell_type": "code",
     "collapsed": false,
     "input": [
      "aam.initialize_lk(n_shape=[3, 6, 12], n_appearance=[100, 100, 100])"
     ],
     "language": "python",
     "metadata": {},
     "outputs": []
    },
    {
     "cell_type": "code",
     "collapsed": false,
     "input": [
      "fitted_transforms = aam.lk_fit_annotated_database(images, runs=1, noise_std=0)"
     ],
     "language": "python",
     "metadata": {},
     "outputs": []
    },
    {
     "cell_type": "markdown",
     "metadata": {},
     "source": [
      "#### 6. Evaluate Performance"
     ]
    },
    {
     "cell_type": "code",
     "collapsed": false,
     "input": [
      "from pybug.activeappearancemodel.accuracy import plot_ced\n",
      "\n",
      "original_landmarks = [i.landmarks['PTS'].lms for i in images]\n",
      "\n",
      "fitted_landmarks = []\n",
      "for ft in fitted_transforms:\n",
      "    for f in ft:\n",
      "        fitted_landmarks.append(f[-1].target)\n",
      "\n",
      "plot_ced(fitted_landmarks, original_landmarks, label='AIC')"
     ],
     "language": "python",
     "metadata": {},
     "outputs": []
    }
   ],
   "metadata": {}
  }
 ]
}