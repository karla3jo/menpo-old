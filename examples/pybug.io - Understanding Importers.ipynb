{
 "metadata": {
  "name": ""
 },
 "nbformat": 3,
 "nbformat_minor": 0,
 "worksheets": [
  {
   "cells": [
    {
     "cell_type": "markdown",
     "metadata": {},
     "source": [
      "**Note - this notebook needs some TLC. Fill it out it you get a spare hour!**"
     ]
    },
    {
     "cell_type": "markdown",
     "metadata": {},
     "source": [
      "All pybug importers inherit from the abstact base class `Importer`. This specifies that:\n",
      "\n",
      "1. Importers should be constructed by passing in a path to a file\n",
      "2. Importers should impliment a `.build()` method which returns our data representation of the file in question.\n",
      "\n",
      "Try this out by setting the following paths to an image and 3D data file respectively:"
     ]
    },
    {
     "cell_type": "markdown",
     "metadata": {},
     "source": [
      "Note that, as single mesh files can contain multiple meshes, the `MeshImporter` returns a list of meshes, even though this will commonly only contain one item. Note also that the `MeshImporter` will check to see if the mesh in question has a texture attached to it, and in this case will build a `TexturedTriMesh` instead. You can see for yourself whether Assimp found a texture by checking the `.texture_path` attribute on the `MeshImporter`:"
     ]
    },
    {
     "cell_type": "code",
     "collapsed": false,
     "input": [
      "print mesh_importer.texture_path"
     ],
     "language": "python",
     "metadata": {},
     "outputs": []
    }
   ],
   "metadata": {}
  }
 ]
}