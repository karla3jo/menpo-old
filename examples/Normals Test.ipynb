{
 "metadata": {
  "name": ""
 },
 "nbformat": 3,
 "nbformat_minor": 0,
 "worksheets": [
  {
   "cells": [
    {
     "cell_type": "heading",
     "level": 1,
     "metadata": {},
     "source": [
      "Basic Lucas-Kanade"
     ]
    },
    {
     "cell_type": "markdown",
     "metadata": {},
     "source": [
      "Load the Takeo image from the data directory using the auto importer."
     ]
    },
    {
     "cell_type": "code",
     "collapsed": false,
     "input": [
      "from pybug.io import auto_import\n",
      "from pybug import data_path_to\n",
      "import numpy as np\n",
      "import matplotlib.pyplot as plt\n",
      "from pybug.landmark import labeller, ibug_68_points\n",
      "\n",
      "takeo_path = data_path_to('frgc.abs')\n",
      "takeo = auto_import(takeo_path)[0]\n",
      "\n",
      "labeller([takeo], 'PTS', ibug_68_points)\n",
      "takeo.landmarks['face'] = takeo.landmarks['ibug_68_points'].without_labels(['chin']).lms\n",
      "\n",
      "bounds = takeo.landmarks['face'].lms.bounds()\n",
      "bounds_height, bounds_width = (bounds[1][1] - bounds[0][1], bounds[1][0] - bounds[0][0])\n",
      "\n",
      "takeo.view()"
     ],
     "language": "python",
     "metadata": {},
     "outputs": []
    },
    {
     "cell_type": "markdown",
     "metadata": {},
     "source": [
      "The Takeo image is grayscale, but still has three channels:"
     ]
    },
    {
     "cell_type": "code",
     "collapsed": false,
     "input": [
      "print takeo.n_channels\n",
      "print takeo.pixels.shape"
     ],
     "language": "python",
     "metadata": {},
     "outputs": []
    },
    {
     "cell_type": "markdown",
     "metadata": {},
     "source": [
      "These are redundant. An easy way to remove them is to explicitly convert the image to greyscale"
     ]
    },
    {
     "cell_type": "markdown",
     "metadata": {},
     "source": [
      "Since Lucas-Kanade involves matching images between a template and an input, we begin by creating a template to match to. Therefore, we import a warping function and warp the original image to create a template. Create the warp involves defining a set of initial warp parameters, which we will attempt to recover using the Lucas-Kanade algorithm. The warp parameters are defined as the elements of the transform matrix that transforms from target to source. We honour the parameter layout specified in the Lucas-Kanade 20 years on paper:\n",
      "\\begin{pmatrix}\n",
      "p1 & p3 & p5\\\\\n",
      "p2 & p4 & p6\n",
      "\\end{pmatrix}\n",
      "\n",
      "where $p5$ and $p6$ are the translation parameters."
     ]
    },
    {
     "cell_type": "code",
     "collapsed": false,
     "input": [
      "from pybug.transform import AffineTransform\n",
      "from pybug.image import BooleanNDImage, MaskedNDImage\n",
      "\n",
      "target_params = np.array([0, 0.01, 0.0, 0, bounds[0][0], bounds[0][1]])\n",
      "target_transform = AffineTransform.from_vector(target_params)\n",
      "# printing an affine transform tells us what it does\n",
      "print target_transform\n",
      "\n",
      "# make a blank (default filled with 0's) greyscale (default: 1 channel) image to guide the warp\n",
      "template = BooleanNDImage.blank((bounds_height, bounds_width))\n",
      "\n",
      "target = takeo.warp_to(template, target_transform)\n",
      "target.view_new()\n",
      "\n",
      "target_n = MaskedNDImage.blank(target.shape, mask=target.mask, n_channels=3)\n",
      "target_n.from_vector_inplace(target.mesh.vertex_normals.ravel())\n",
      "target_n.view_new()"
     ],
     "language": "python",
     "metadata": {},
     "outputs": []
    },
    {
     "cell_type": "markdown",
     "metadata": {},
     "source": [
      "In order to perform the alignment, we seperate the algorithm from the similarity measure used. Therefore, we begin by creating a similarity measure which defines how we define the error between the two images. For this example, we use the most simple case, the LeastSquares pixels differences."
     ]
    },
    {
     "cell_type": "code",
     "collapsed": false,
     "input": [
      "from pybug.lucaskanade.residual import LSIntensity\n",
      "\n",
      "residual = LSIntensity()"
     ],
     "language": "python",
     "metadata": {},
     "outputs": []
    },
    {
     "cell_type": "markdown",
     "metadata": {},
     "source": [
      "Now, given an initial estimate, we can perform the alignment. We can either perform an inverse compositional alignment, or a forward additive. Lucas-Kanade is a gradient descent algorithm, and thus assumes a near global optimum initial parameterisaton. We therefore begin by initialising the image to roughly Takeo's face."
     ]
    },
    {
     "cell_type": "code",
     "collapsed": false,
     "input": [
      "initial_params = np.array([0, 0, 0, 0, bounds[0][0] + 0.5, bounds[0][1] + 0.5])"
     ],
     "language": "python",
     "metadata": {},
     "outputs": []
    },
    {
     "cell_type": "markdown",
     "metadata": {},
     "source": [
      "We then perform the alignment, and show the resulting transforms."
     ]
    },
    {
     "cell_type": "code",
     "collapsed": false,
     "input": [
      "def compute_rms_point_error(test_pts, template_affine, M):\n",
      "    iteration_pts = M.apply(template_affine.T)\n",
      "    diff_pts = test_pts - iteration_pts\n",
      "    return np.sqrt(np.mean(diff_pts ** 2))"
     ],
     "language": "python",
     "metadata": {},
     "outputs": []
    },
    {
     "cell_type": "code",
     "collapsed": false,
     "input": [
      "from copy import deepcopy\n",
      "from pybug.lucaskanade.image import ImageInverseCompositional, ImageForwardAdditive, ImageForwardCompositional\n",
      "\n",
      "def run_all(image, target, template, initial_params, target_params):\n",
      "    plt.figure()\n",
      "    inital_transform = AffineTransform.from_vector(initial_params)\n",
      "    inv_comp = ImageInverseCompositional(target, residual, deepcopy(inital_transform))\n",
      "    for_add = ImageForwardAdditive(target, residual, deepcopy(inital_transform))\n",
      "    for_comp = ImageForwardCompositional(target, residual, deepcopy(inital_transform))\n",
      "\n",
      "    inv_comp_transform = inv_comp.align(image, initial_params)\n",
      "    inv_comp_res = image.warp_to(template, inv_comp_transform)\n",
      "    plt.subplot(141)\n",
      "    inv_comp_res.view()\n",
      "    \n",
      "    # Get Forward Compositional optimum transform and plot\n",
      "    for_comp_transform = for_comp.align(image, initial_params)\n",
      "    for_comp_res = image.warp_to(template, for_comp_transform)\n",
      "    plt.subplot(142)\n",
      "    for_comp_res.view()\n",
      "    \n",
      "    # Get Forward Additive optimum transform and plot\n",
      "    for_add_transform = for_add.align(image, initial_params)\n",
      "    \n",
      "    for_add_res = image.warp_to(template, for_add_transform)\n",
      "    plt.subplot(143)\n",
      "    for_add_res.view()\n",
      "    \n",
      "    # Plot target image we were warping to\n",
      "    plt.subplot(144)\n",
      "    target.view()\n",
      "    \n",
      "    # Set Figure to be larger\n",
      "    plt.gcf().set_size_inches(12.0, 5.0)\n",
      "    \n",
      "    original_box = np.array([[0,                 0],\n",
      "                             [template.shape[0], 0],\n",
      "                             [template.shape[0], template.shape[1]],\n",
      "                             [0,                 template.shape[1]]]).T\n",
      "    target_pts = AffineTransform.from_vector(target_params).apply(original_box.T)\n",
      "    print 'Initial RMS: {}'.format(compute_rms_point_error(target_pts, original_box, AffineTransform.from_vector(initial_params)))\n",
      "    print 'Inverse compositional RMS error: {0}'.format(compute_rms_point_error(target_pts, original_box, inv_comp_transform))\n",
      "    print 'Forward additive RMS error:      {0}'.format(compute_rms_point_error(target_pts, original_box, for_add_transform))\n",
      "    print 'Forward compositional RMS error: {0}'.format(compute_rms_point_error(target_pts, original_box, for_comp_transform))"
     ],
     "language": "python",
     "metadata": {},
     "outputs": []
    },
    {
     "cell_type": "code",
     "collapsed": false,
     "input": [
      "takeo_n = MaskedNDImage.blank(takeo.shape, mask=takeo.mask, n_channels=3)\n",
      "takeo_n.from_vector_inplace(takeo.mesh.vertex_normals.ravel())\n",
      "\n",
      "print 'Normals'\n",
      "run_all(takeo_n, target_n, template, initial_params, target_params)\n",
      "print 'Depth'\n",
      "run_all(takeo, target, template, initial_params, target_params)"
     ],
     "language": "python",
     "metadata": {},
     "outputs": []
    },
    {
     "cell_type": "code",
     "collapsed": false,
     "input": [],
     "language": "python",
     "metadata": {},
     "outputs": []
    }
   ],
   "metadata": {}
  }
 ]
}