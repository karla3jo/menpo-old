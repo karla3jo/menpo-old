{
 "metadata": {
  "name": ""
 },
 "nbformat": 3,
 "nbformat_minor": 0,
 "worksheets": [
  {
   "cells": [
    {
     "cell_type": "heading",
     "level": 1,
     "metadata": {},
     "source": [
      "HOG Features"
     ]
    },
    {
     "cell_type": "markdown",
     "metadata": {},
     "source": [
      "The HOG (Histogram of Oriented Gradients) descriptors method clusters gradient orientations in different bins for localized sub-windows of the input image, resulting in counting occurences of the orientations.\n",
      "\n",
      "First of all, import all needed packages:"
     ]
    },
    {
     "cell_type": "code",
     "collapsed": false,
     "input": [
      "from pybug.image.feature import HOG2DImage\n",
      "from pybug import data_path_to\n",
      "from pybug.io import auto_import"
     ],
     "language": "python",
     "metadata": {},
     "outputs": [],
     "prompt_number": 1
    },
    {
     "cell_type": "markdown",
     "metadata": {},
     "source": [
      "Load and plot Takeo image:"
     ]
    },
    {
     "cell_type": "code",
     "collapsed": false,
     "input": [
      "takeo = auto_import(data_path_to('breakingbad.jpg'))[0]\n",
      "takeo.crop_to_landmarks(boundary=20)\n",
      "takeo.constrain_mask_to_landmarks()\n",
      "takeo.landmarks.view(masked=False)"
     ],
     "language": "python",
     "metadata": {},
     "outputs": [
      {
       "output_type": "stream",
       "stream": "stdout",
       "text": [
        "Found 1 files. (0/1) are importable\n",
        "\n"
       ]
      },
      {
       "output_type": "stream",
       "stream": "stdout",
       "text": [
        "Found 1 files. (1/1) are importable\n",
        "\r",
        "Creating importer for <pybug.io.image.PILImporter object at 0x3fdae90> (1 of 1)"
       ]
      },
      {
       "output_type": "stream",
       "stream": "stdout",
       "text": [
        "\n"
       ]
      }
     ],
     "prompt_number": 2
    },
    {
     "cell_type": "markdown",
     "metadata": {},
     "source": [
      "otherwise"
     ]
    },
    {
     "cell_type": "code",
     "collapsed": false,
     "input": [
      "takeo.view(masked=True, channel='all')"
     ],
     "language": "python",
     "metadata": {},
     "outputs": [
      {
       "metadata": {},
       "output_type": "pyout",
       "prompt_number": 3,
       "text": [
        "<pybug.visualize.viewmatplotlib.MatplotlibImageSubplotsViewer2d at 0x4229250>"
       ]
      }
     ],
     "prompt_number": 3
    },
    {
     "cell_type": "heading",
     "level": 2,
     "metadata": {},
     "source": [
      "Dense HOG"
     ]
    },
    {
     "cell_type": "heading",
     "level": 3,
     "metadata": {},
     "source": [
      "User-defined options example"
     ]
    },
    {
     "cell_type": "markdown",
     "metadata": {},
     "source": [
      "In the Dense HOG case of the HOG2DImage class, we need to provide the window-related options. The window step basically defines how dense/sparse is the output descriptors image, thus it sets the down-sampling factor of the image.\n",
      "\n",
      "Compute descriptors and plot their size. HOG2DImage calls the hog() of features package that basically creates an ImageWindowIterator object and then applies the HOG computation at each window. The returned size should be\n",
      "[num_windows_vertically x num_windows_horizontally x descriptor_length_per_window]:"
     ]
    },
    {
     "cell_type": "code",
     "collapsed": true,
     "input": [
      "%%time\n",
      "hog = HOG2DImage(takeo.pixels, \n",
      "                 mask=takeo.mask, \n",
      "                 mode='dense', \n",
      "                 algorithm='dalaltriggs', \n",
      "                 cell_size=8,\n",
      "                 block_size=2, \n",
      "                 num_bins=9, \n",
      "                 signed_gradient=True, \n",
      "                 l2_norm_clip=0.2,\n",
      "                 window_height=1, window_width=1, window_unit='blocks',\n",
      "                 window_step_vertical=1, window_step_horizontal=1, window_step_unit='pixels', \n",
      "                 padding=True, \n",
      "                 verbose=True)"
     ],
     "language": "python",
     "metadata": {},
     "outputs": [
      {
       "output_type": "stream",
       "stream": "stdout",
       "text": [
        "Window Iterator:\n",
        "  - Input image is 403W x 411H with 3 channels.\n",
        "  - Window of size 16W x 16H and step (1W,1H).\n",
        "  - Padding is enabled.\n",
        "  - Number of windows is 403W x 411H.\n",
        "HOG features:\n",
        "  - Algorithm of Dalal & Triggs.\n",
        "  - Cell is 8x8 pixels.\n",
        "  - Block is 2x2 cells.\n",
        "  - 9 orientation bins and signed angles.\n",
        "  - L2-norm clipped at 0.2\n",
        "  - Number of blocks per window = 1W x 1H.\n",
        "  - Descriptor length per window = 1W x 1H x 36 = 36 x 1.\n",
        "Output image size 403W x 411H x 36.\n",
        "CPU times: user 4.96 s, sys: 36 ms, total: 5 s"
       ]
      },
      {
       "output_type": "stream",
       "stream": "stdout",
       "text": [
        "\n",
        "Wall time: 5.01 s\n"
       ]
      }
     ],
     "prompt_number": 4
    },
    {
     "cell_type": "markdown",
     "metadata": {},
     "source": [
      "The information printed with the verbose option can be recovered by:"
     ]
    },
    {
     "cell_type": "code",
     "collapsed": false,
     "input": [
      "print hog"
     ],
     "language": "python",
     "metadata": {},
     "outputs": [
      {
       "output_type": "stream",
       "stream": "stdout",
       "text": [
        "403W x 411H 2D HOGImage with 36 channels. Attached mask 58.9% true.\n",
        "Mode is dense.\n",
        "Window Iterator:\n",
        "  - Input image is 403W x 411H with 3 channels.\n",
        "  - Window of size 16W x 16H and step (1W,1H).\n",
        "  - Padding is enabled.\n",
        "  - Number of windows is 403W x 411H.\n",
        "HOG features:\n",
        "  - Algorithm of Dalal & Triggs.\n",
        "  - Cell is 8x8 pixels.\n",
        "  - Block is 2x2 cells.\n",
        "  - 9 orientation bins and signed angles.\n",
        "  - L2-norm clipped at 0.2\n",
        "  - Number of blocks per window = 1W x 1H.\n",
        "  - Descriptor length per window = 1W x 1H x 36 = 36 x 1.\n",
        "\n"
       ]
      }
     ],
     "prompt_number": 5
    },
    {
     "cell_type": "markdown",
     "metadata": {},
     "source": [
      "and the windows centers:"
     ]
    },
    {
     "cell_type": "code",
     "collapsed": false,
     "input": [
      "print hog.window_centres.shape"
     ],
     "language": "python",
     "metadata": {},
     "outputs": [
      {
       "output_type": "stream",
       "stream": "stdout",
       "text": [
        "(411, 403, 2)\n"
       ]
      }
     ],
     "prompt_number": 6
    },
    {
     "cell_type": "markdown",
     "metadata": {},
     "source": [
      "In the previous example we have set the default values in all parameters. The next example shows a slight differentation. Check the printed information:"
     ]
    },
    {
     "cell_type": "code",
     "collapsed": true,
     "input": [
      "%%time\n",
      "hog = HOG2DImage(takeo.pixels, \n",
      "                 mask=takeo.mask, \n",
      "                 mode='dense', \n",
      "                 algorithm='zhuramanan', \n",
      "                 cell_size=8,\n",
      "                 block_size=2, \n",
      "                 num_bins=9, \n",
      "                 signed_gradient=True, \n",
      "                 l2_norm_clip=0.2,\n",
      "                 window_height=32, window_width=32, window_unit='pixels',\n",
      "                 window_step_vertical=3, window_step_horizontal=3, window_step_unit='pixels', \n",
      "                 padding=True, \n",
      "                 verbose=False)"
     ],
     "language": "python",
     "metadata": {},
     "outputs": [
      {
       "output_type": "stream",
       "stream": "stdout",
       "text": [
        "CPU times: user 1.02 s, sys: 16 ms, total: 1.03 s\n",
        "Wall time: 1.03 s\n"
       ]
      }
     ],
     "prompt_number": 4
    },
    {
     "cell_type": "markdown",
     "metadata": {},
     "source": [
      "and print information:"
     ]
    },
    {
     "cell_type": "code",
     "collapsed": false,
     "input": [
      "print hog"
     ],
     "language": "python",
     "metadata": {},
     "outputs": [
      {
       "output_type": "stream",
       "stream": "stdout",
       "text": [
        "134W x 137H 2D HOGImage with 124 channels. Attached mask 59.0% true.\n",
        "Mode is dense.\n",
        "Window Iterator:\n",
        "  - Input image is 403W x 411H with 3 channels.\n",
        "  - Window of size 32W x 32H and step (3W,3H).\n",
        "  - Padding is enabled.\n",
        "  - Number of windows is 134W x 137H.\n",
        "HOG features:\n",
        "  - Algorithm of Zhu & Ramanan.\n",
        "  - Cell is 8x8 pixels.\n",
        "  - Block is 2x2 cells.\n",
        "  - Number of blocks per window = 2W x 2H.\n",
        "  - Descriptor length per window = 2W x 2H x 31 = 124 x 1.\n",
        "\n"
       ]
      }
     ],
     "prompt_number": 5
    },
    {
     "cell_type": "markdown",
     "metadata": {},
     "source": [
      "Now let's visualize HOG features as images, thus set the glyph flag to False. By default, if the user doesn't specify the channels or channels=None with the glyph disabled, then the viewer plots the min(hog.pixels.shape[2],36) first channels:"
     ]
    },
    {
     "cell_type": "code",
     "collapsed": false,
     "input": [
      "hog.view(glyph=False, channels='all')"
     ],
     "language": "python",
     "metadata": {},
     "outputs": [
      {
       "metadata": {},
       "output_type": "pyout",
       "prompt_number": 6,
       "text": [
        "<pybug.visualize.viewmatplotlib.MatplotlibImageSubplotsViewer2d at 0x500fe50>"
       ]
      }
     ],
     "prompt_number": 6
    },
    {
     "cell_type": "markdown",
     "metadata": {},
     "source": [
      "Alternativelly, we can specify some options:"
     ]
    },
    {
     "cell_type": "code",
     "collapsed": false,
     "input": [
      "hog.view(glyph=False,channels=[0,1,2],masked=False)"
     ],
     "language": "python",
     "metadata": {},
     "outputs": [
      {
       "metadata": {},
       "output_type": "pyout",
       "prompt_number": 7,
       "text": [
        "<pybug.visualize.viewmatplotlib.MatplotlibImageSubplotsViewer2d at 0xc422590>"
       ]
      }
     ],
     "prompt_number": 7
    },
    {
     "cell_type": "markdown",
     "metadata": {},
     "source": [
      "or"
     ]
    },
    {
     "cell_type": "code",
     "collapsed": false,
     "input": [
      "hog.view(glyph=False,channels=None,masked=False)"
     ],
     "language": "python",
     "metadata": {},
     "outputs": [
      {
       "metadata": {},
       "output_type": "pyout",
       "prompt_number": 8,
       "text": [
        "<pybug.visualize.viewmatplotlib.MatplotlibImageSubplotsViewer2d at 0xe877ad0>"
       ]
      }
     ],
     "prompt_number": 8
    },
    {
     "cell_type": "code",
     "collapsed": false,
     "input": [
      "from collections import Iterable\n",
      "a = [1,2]\n",
      "isinstance(a,Iterable)"
     ],
     "language": "python",
     "metadata": {},
     "outputs": [
      {
       "metadata": {},
       "output_type": "pyout",
       "prompt_number": 14,
       "text": [
        "True"
       ]
      }
     ],
     "prompt_number": 14
    },
    {
     "cell_type": "markdown",
     "metadata": {},
     "source": [
      "or"
     ]
    },
    {
     "cell_type": "code",
     "collapsed": false,
     "input": [
      "hog.view(glyph=False,channels=1)"
     ],
     "language": "python",
     "metadata": {},
     "outputs": [
      {
       "metadata": {},
       "output_type": "pyout",
       "prompt_number": 9,
       "text": [
        "<pybug.visualize.viewmatplotlib.MatplotlibImageViewer2d at 0x10b7be50>"
       ]
      }
     ],
     "prompt_number": 9
    },
    {
     "cell_type": "markdown",
     "metadata": {},
     "source": [
      "Visualize descriptors using glyph, thus set the glyph flag to True. By default, if the user doesn't specify the channels or channels=None with the glyph enabled, then the viewer plots the min(hog.pixels.shape[2],9) first channels:"
     ]
    },
    {
     "cell_type": "code",
     "collapsed": false,
     "input": [
      "hog.view(glyph=True)"
     ],
     "language": "python",
     "metadata": {},
     "outputs": [
      {
       "metadata": {},
       "output_type": "pyout",
       "prompt_number": 11,
       "text": [
        "<pybug.visualize.viewmatplotlib.MatplotlibImageViewer2d at 0x135d23d0>"
       ]
      }
     ],
     "prompt_number": 11
    },
    {
     "cell_type": "markdown",
     "metadata": {},
     "source": [
      "or specifying some options:"
     ]
    },
    {
     "cell_type": "code",
     "collapsed": false,
     "input": [
      "hog.view(masked=False,vectors_block_size=6,channels=range(0, 1))"
     ],
     "language": "python",
     "metadata": {},
     "outputs": [
      {
       "metadata": {},
       "output_type": "pyout",
       "prompt_number": 12,
       "text": [
        "<pybug.visualize.viewmatplotlib.MatplotlibImageViewer2d at 0x19239210>"
       ]
      }
     ],
     "prompt_number": 12
    },
    {
     "cell_type": "heading",
     "level": 3,
     "metadata": {},
     "source": [
      "Default options example"
     ]
    },
    {
     "cell_type": "markdown",
     "metadata": {},
     "source": [
      "The default options of the dense type uses the Dalal&Triggs method with a sampling step of one pixel and without mask. That is:"
     ]
    },
    {
     "cell_type": "code",
     "collapsed": false,
     "input": [
      "default_hog = HOG2DImage(takeo.pixels)"
     ],
     "language": "python",
     "metadata": {},
     "outputs": []
    },
    {
     "cell_type": "markdown",
     "metadata": {},
     "source": [
      "Visualize the result in both ways:"
     ]
    },
    {
     "cell_type": "code",
     "collapsed": false,
     "input": [
      "default_hog.view()"
     ],
     "language": "python",
     "metadata": {},
     "outputs": []
    },
    {
     "cell_type": "code",
     "collapsed": false,
     "input": [
      "default_hog.view(glyph=False)"
     ],
     "language": "python",
     "metadata": {},
     "outputs": []
    },
    {
     "cell_type": "heading",
     "level": 2,
     "metadata": {},
     "source": [
      "Sparse HOG example"
     ]
    },
    {
     "cell_type": "heading",
     "level": 3,
     "metadata": {},
     "source": [
      "User-defined options example"
     ]
    },
    {
     "cell_type": "markdown",
     "metadata": {},
     "source": [
      "Compute descriptors and plot their size. In the sparse mode, the user cannot change the window related options, only the HOG related ones."
     ]
    },
    {
     "cell_type": "code",
     "collapsed": false,
     "input": [
      "%%time\n",
      "hog = HOG2DImage(takeo.pixels, \n",
      "                 mask=takeo.mask, \n",
      "                 mode='sparse', \n",
      "                 algorithm='zhuramanan', \n",
      "                 cell_size=4,\n",
      "                 verbose=True)"
     ],
     "language": "python",
     "metadata": {},
     "outputs": []
    },
    {
     "cell_type": "code",
     "collapsed": false,
     "input": [
      "print hog"
     ],
     "language": "python",
     "metadata": {},
     "outputs": []
    },
    {
     "cell_type": "markdown",
     "metadata": {},
     "source": [
      "Visualize descriptors as images:"
     ]
    },
    {
     "cell_type": "code",
     "collapsed": false,
     "input": [
      "hog.view(glyph=False,channels=[1, 2, 3])"
     ],
     "language": "python",
     "metadata": {},
     "outputs": []
    },
    {
     "cell_type": "markdown",
     "metadata": {},
     "source": [
      "Visualize descriptors using glyph:"
     ]
    },
    {
     "cell_type": "code",
     "collapsed": false,
     "input": [
      "default_hog.view(glyph=False)"
     ],
     "language": "python",
     "metadata": {},
     "outputs": []
    },
    {
     "cell_type": "heading",
     "level": 3,
     "metadata": {},
     "source": [
      "Default options example"
     ]
    },
    {
     "cell_type": "code",
     "collapsed": false,
     "input": [
      "%%time\n",
      "default_hog = HOG2DImage(takeo.pixels, mode='sparse')"
     ],
     "language": "python",
     "metadata": {},
     "outputs": []
    },
    {
     "cell_type": "code",
     "collapsed": false,
     "input": [
      "print default_hog"
     ],
     "language": "python",
     "metadata": {},
     "outputs": []
    },
    {
     "cell_type": "code",
     "collapsed": false,
     "input": [
      "default_hog.view()"
     ],
     "language": "python",
     "metadata": {},
     "outputs": []
    }
   ],
   "metadata": {}
  }
 ]
}