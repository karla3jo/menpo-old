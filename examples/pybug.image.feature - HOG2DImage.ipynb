{
 "metadata": {
  "name": ""
 },
 "nbformat": 3,
 "nbformat_minor": 0,
 "worksheets": [
  {
   "cells": [
    {
     "cell_type": "heading",
     "level": 1,
     "metadata": {},
     "source": [
      "HOG Features"
     ]
    },
    {
     "cell_type": "markdown",
     "metadata": {},
     "source": [
      "The HOG (Histogram of Oriented Gradients) descriptors method clusters gradient orientations in different bins for localized sub-windows of the input image, resulting in counting occurences of the orientations.\n",
      "\n",
      "First of all, import all needed packages:"
     ]
    },
    {
     "cell_type": "code",
     "collapsed": false,
     "input": [
      "from pybug.image.feature import HOG2DImage\n",
      "from pybug import data_path_to\n",
      "from pybug.io import auto_import"
     ],
     "language": "python",
     "metadata": {},
     "outputs": []
    },
    {
     "cell_type": "markdown",
     "metadata": {},
     "source": [
      "Load and plot Breaking Bad image:"
     ]
    },
    {
     "cell_type": "code",
     "collapsed": false,
     "input": [
      "breakingbad = auto_import(data_path_to('breakingbad.jpg'))[0]\n",
      "breakingbad.crop_to_landmarks(boundary=20)\n",
      "breakingbad.constrain_mask_to_landmarks()\n",
      "breakingbad.landmarks.view(masked=False)"
     ],
     "language": "python",
     "metadata": {},
     "outputs": []
    },
    {
     "cell_type": "markdown",
     "metadata": {},
     "source": [
      "otherwise"
     ]
    },
    {
     "cell_type": "code",
     "collapsed": false,
     "input": [
      "breakingbad.view(masked=True, channel='all')"
     ],
     "language": "python",
     "metadata": {},
     "outputs": []
    },
    {
     "cell_type": "heading",
     "level": 2,
     "metadata": {},
     "source": [
      "Dense HOG"
     ]
    },
    {
     "cell_type": "heading",
     "level": 3,
     "metadata": {},
     "source": [
      "User-defined options example"
     ]
    },
    {
     "cell_type": "markdown",
     "metadata": {},
     "source": [
      "In the Dense HOG case of the HOG2DImage class, we need to provide the window-related options. The window step basically defines how dense/sparse is the output descriptors image, thus it sets the down-sampling factor of the image.\n",
      "\n",
      "Compute descriptors and plot their size. HOG2DImage calls the hog() of features package that basically creates an ImageWindowIterator object and then applies the HOG computation at each window. The returned size should be\n",
      "[num_windows_vertically x num_windows_horizontally x descriptor_length_per_window]:"
     ]
    },
    {
     "cell_type": "code",
     "collapsed": true,
     "input": [
      "%%time\n",
      "hog = HOG2DImage(breakingbad.pixels, \n",
      "                 mask=breakingbad.mask, \n",
      "                 mode='dense', \n",
      "                 algorithm='dalaltriggs', \n",
      "                 cell_size=8,\n",
      "                 block_size=2, \n",
      "                 num_bins=9, \n",
      "                 signed_gradient=True, \n",
      "                 l2_norm_clip=0.2,\n",
      "                 window_height=1, window_width=1, window_unit='blocks',\n",
      "                 window_step_vertical=1, window_step_horizontal=1, window_step_unit='pixels', \n",
      "                 padding=True, \n",
      "                 verbose=True)"
     ],
     "language": "python",
     "metadata": {},
     "outputs": []
    },
    {
     "cell_type": "markdown",
     "metadata": {},
     "source": [
      "The information printed with the verbose option can be recovered by:"
     ]
    },
    {
     "cell_type": "code",
     "collapsed": false,
     "input": [
      "print hog"
     ],
     "language": "python",
     "metadata": {},
     "outputs": []
    },
    {
     "cell_type": "markdown",
     "metadata": {},
     "source": [
      "In the previous example we have set the default values in all parameters. The next example shows a slight differentation. Check the printed information:"
     ]
    },
    {
     "cell_type": "code",
     "collapsed": true,
     "input": [
      "%%time\n",
      "hog2 = HOG2DImage(breakingbad.pixels, \n",
      "                 mask=breakingbad.mask, \n",
      "                 mode='dense', \n",
      "                 algorithm='zhuramanan', \n",
      "                 cell_size=8,\n",
      "                 block_size=2, \n",
      "                 num_bins=9, \n",
      "                 signed_gradient=True, \n",
      "                 l2_norm_clip=0.2,\n",
      "                 window_height=32, window_width=32, window_unit='pixels',\n",
      "                 window_step_vertical=3, window_step_horizontal=3, window_step_unit='pixels', \n",
      "                 padding=True, \n",
      "                 verbose=False)"
     ],
     "language": "python",
     "metadata": {},
     "outputs": []
    },
    {
     "cell_type": "markdown",
     "metadata": {},
     "source": [
      "and print information:"
     ]
    },
    {
     "cell_type": "code",
     "collapsed": false,
     "input": [
      "print hog2"
     ],
     "language": "python",
     "metadata": {},
     "outputs": []
    },
    {
     "cell_type": "markdown",
     "metadata": {},
     "source": [
      "Now let's visualize HOG features as images, thus set the glyph flag to False. By default, if the user doesn't specify the channels or channels=None with the glyph disabled, then the viewer plots the min(hog.pixels.shape[2],36) first channels:"
     ]
    },
    {
     "cell_type": "code",
     "collapsed": false,
     "input": [
      "hog.view(glyph=False)"
     ],
     "language": "python",
     "metadata": {},
     "outputs": []
    },
    {
     "cell_type": "markdown",
     "metadata": {},
     "source": [
      "Alternativelly, we can specify some options:"
     ]
    },
    {
     "cell_type": "code",
     "collapsed": false,
     "input": [
      "hog.view(glyph=False,channels=[0,1,2],masked=False)"
     ],
     "language": "python",
     "metadata": {},
     "outputs": []
    },
    {
     "cell_type": "markdown",
     "metadata": {},
     "source": [
      "or"
     ]
    },
    {
     "cell_type": "code",
     "collapsed": false,
     "input": [
      "hog.view(glyph=False,channels=1)"
     ],
     "language": "python",
     "metadata": {},
     "outputs": []
    },
    {
     "cell_type": "markdown",
     "metadata": {},
     "source": [
      "or"
     ]
    },
    {
     "cell_type": "code",
     "collapsed": false,
     "input": [
      "hog.view(glyph=False,channels='all')"
     ],
     "language": "python",
     "metadata": {},
     "outputs": []
    },
    {
     "cell_type": "markdown",
     "metadata": {},
     "source": [
      "Visualize descriptors using glyph, thus set the glyph flag to True. By default, if the user doesn't specify the channels or channels=None with the glyph enabled, then the viewer plots the min(hog.pixels.shape[2],9) first channels:"
     ]
    },
    {
     "cell_type": "code",
     "collapsed": false,
     "input": [
      "hog.view(glyph=True)"
     ],
     "language": "python",
     "metadata": {},
     "outputs": []
    },
    {
     "cell_type": "markdown",
     "metadata": {},
     "source": [
      "or specifying some options:"
     ]
    },
    {
     "cell_type": "code",
     "collapsed": false,
     "input": [
      "hog.view(masked=False,vectors_block_size=6,channels=range(0, 1))"
     ],
     "language": "python",
     "metadata": {},
     "outputs": []
    },
    {
     "cell_type": "heading",
     "level": 3,
     "metadata": {},
     "source": [
      "Default options example"
     ]
    },
    {
     "cell_type": "markdown",
     "metadata": {},
     "source": [
      "The default options of the dense type uses the Dalal&Triggs method with a sampling step of one pixel and without mask. That is:"
     ]
    },
    {
     "cell_type": "code",
     "collapsed": false,
     "input": [
      "default_hog = HOG2DImage(breakingbad.pixels)"
     ],
     "language": "python",
     "metadata": {},
     "outputs": []
    },
    {
     "cell_type": "markdown",
     "metadata": {},
     "source": [
      "Visualize the result in both ways:"
     ]
    },
    {
     "cell_type": "code",
     "collapsed": false,
     "input": [
      "default_hog.view()"
     ],
     "language": "python",
     "metadata": {},
     "outputs": []
    },
    {
     "cell_type": "code",
     "collapsed": false,
     "input": [
      "default_hog.view(glyph=False)"
     ],
     "language": "python",
     "metadata": {},
     "outputs": []
    },
    {
     "cell_type": "heading",
     "level": 2,
     "metadata": {},
     "source": [
      "Sparse HOG example"
     ]
    },
    {
     "cell_type": "heading",
     "level": 3,
     "metadata": {},
     "source": [
      "User-defined options example"
     ]
    },
    {
     "cell_type": "markdown",
     "metadata": {},
     "source": [
      "Compute descriptors and plot their size. In the sparse mode, the user cannot change the window related options, only the HOG related ones."
     ]
    },
    {
     "cell_type": "code",
     "collapsed": false,
     "input": [
      "%%time\n",
      "hog = HOG2DImage(breakingbad.pixels, \n",
      "                 mask=breakingbad.mask, \n",
      "                 mode='sparse', \n",
      "                 algorithm='zhuramanan', \n",
      "                 cell_size=4,\n",
      "                 verbose=True)"
     ],
     "language": "python",
     "metadata": {},
     "outputs": []
    },
    {
     "cell_type": "code",
     "collapsed": false,
     "input": [
      "print hog"
     ],
     "language": "python",
     "metadata": {},
     "outputs": []
    },
    {
     "cell_type": "markdown",
     "metadata": {},
     "source": [
      "Visualize descriptors as images:"
     ]
    },
    {
     "cell_type": "code",
     "collapsed": false,
     "input": [
      "hog.view(glyph=False,channels=[1, 2, 3])"
     ],
     "language": "python",
     "metadata": {},
     "outputs": []
    },
    {
     "cell_type": "markdown",
     "metadata": {},
     "source": [
      "Visualize descriptors using glyph:"
     ]
    },
    {
     "cell_type": "code",
     "collapsed": false,
     "input": [
      "default_hog.view(glyph=False)"
     ],
     "language": "python",
     "metadata": {},
     "outputs": []
    },
    {
     "cell_type": "heading",
     "level": 3,
     "metadata": {},
     "source": [
      "Default options example"
     ]
    },
    {
     "cell_type": "code",
     "collapsed": false,
     "input": [
      "%%time\n",
      "default_hog = HOG2DImage(breakingbad.pixels, mode='sparse')"
     ],
     "language": "python",
     "metadata": {},
     "outputs": []
    },
    {
     "cell_type": "code",
     "collapsed": false,
     "input": [
      "print default_hog"
     ],
     "language": "python",
     "metadata": {},
     "outputs": []
    },
    {
     "cell_type": "code",
     "collapsed": false,
     "input": [
      "default_hog.view()"
     ],
     "language": "python",
     "metadata": {},
     "outputs": []
    }
   ],
   "metadata": {}
  }
 ]
}