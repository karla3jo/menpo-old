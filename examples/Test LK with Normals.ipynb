{
 "metadata": {
  "name": ""
 },
 "nbformat": 3,
 "nbformat_minor": 0,
 "worksheets": [
  {
   "cells": [
    {
     "cell_type": "code",
     "collapsed": false,
     "input": [
      "from pybug.io import auto_import\n",
      "from pybug import data_path_to\n",
      "import numpy as np\n",
      "import matplotlib.pyplot as plt\n",
      "from pybug.landmark import labeller, ibug_68_points\n",
      "from pybug.image import ShapeImage, MaskedNDImage, BooleanNDImage\n",
      "from pybug.transform.affine import SimilarityTransform\n",
      "\n",
      "\n",
      "img1 = auto_import('/vol/hci2/Databases/video/Bosphorus/BosphorusDB/bs000/bs000_N_N_1.bnt')[0]\n",
      "img2 = auto_import('/vol/hci2/Databases/video/Bosphorus/BosphorusDB/bs000/bs000_O_MOUTH_0.bnt')[0]\n",
      "\n",
      "img1_labels = set(img1.landmarks['LM2'].labels)\n",
      "img2_labels = set(img2.landmarks['LM2'].labels)\n",
      "matching_labels = img1_labels.intersection(img2_labels)\n",
      "\n",
      "img1_points = img1.landmarks['LM2'].with_labels(matching_labels).lms\n",
      "img2_points = img2.landmarks['LM2'].with_labels(matching_labels).lms\n",
      "\n",
      "transform = SimilarityTransform.align(img1_points, img2_points)\n",
      "\n",
      "img2 = img2.warp_to(BooleanNDImage.blank(img1.shape), transform, warp_mask=True, warp_landmarks=True)\n",
      "\n",
      "img1.landmarks['face'] = img1.landmarks['LM2'] #.with_labels(['middle_left_eyebrow',\n",
      "                                               #             'middle_right_eyebrow',\n",
      "                                               #             'lower_lip_outer_middle']).lms\n",
      "\n",
      "bounds = img1.landmarks['face'].lms.bounds()\n",
      "bounds_height, bounds_width = (bounds[1][1] - bounds[0][1], bounds[1][0] - bounds[0][0])"
     ],
     "language": "python",
     "metadata": {},
     "outputs": []
    },
    {
     "cell_type": "code",
     "collapsed": false,
     "input": [
      "%matplotlib inline\n",
      "img1.view_new(channels=2)\n",
      "img2.view_new(channels=2)"
     ],
     "language": "python",
     "metadata": {},
     "outputs": []
    },
    {
     "cell_type": "code",
     "collapsed": false,
     "input": [
      "print img1.n_channels\n",
      "print img1.pixels.shape"
     ],
     "language": "python",
     "metadata": {},
     "outputs": []
    },
    {
     "cell_type": "code",
     "collapsed": false,
     "input": [
      "%matplotlib inline\n",
      "from pybug.transform import SimilarityTransform\n",
      "from pybug.image import BooleanNDImage, MaskedNDImage\n",
      "\n",
      "target_params = np.array([0.01, 0.09, bounds[0][0], bounds[0][1]])\n",
      "target_transform = SimilarityTransform.from_vector(target_params)\n",
      "# printing an affine transform tells us what it does\n",
      "print target_transform\n",
      "\n",
      "# make a blank (default filled with 0's) greyscale (default: 1 channel) image to guide the warp\n",
      "template = BooleanNDImage.blank((bounds_height, bounds_width))\n",
      "\n",
      "target = img2.warp_to(template, target_transform)\n",
      "target.view_new(channels=2)\n",
      "\n",
      "target_n = MaskedNDImage.blank(target.shape, mask=target.mask, n_channels=3)\n",
      "target_n.from_vector_inplace(target.mesh.vertex_normals.ravel())\n",
      "target_n.view_new()"
     ],
     "language": "python",
     "metadata": {},
     "outputs": []
    },
    {
     "cell_type": "code",
     "collapsed": false,
     "input": [
      "from pybug.lucaskanade.residual import LSIntensity\n",
      "\n",
      "residual = LSIntensity()"
     ],
     "language": "python",
     "metadata": {},
     "outputs": []
    },
    {
     "cell_type": "code",
     "collapsed": false,
     "input": [
      "initial_params = np.array([0, 0, bounds[0][0] + 0.5, bounds[0][1] + 0.5])"
     ],
     "language": "python",
     "metadata": {},
     "outputs": []
    },
    {
     "cell_type": "code",
     "collapsed": false,
     "input": [
      "def compute_rms_point_error(test_pts, template_affine, M):\n",
      "    iteration_pts = M.apply(template_affine.T)\n",
      "    diff_pts = test_pts - iteration_pts\n",
      "    return np.sqrt(np.mean(diff_pts ** 2))"
     ],
     "language": "python",
     "metadata": {},
     "outputs": []
    },
    {
     "cell_type": "code",
     "collapsed": false,
     "input": [
      "from copy import deepcopy\n",
      "from pybug.lucaskanade.image import ImageInverseCompositional, ImageForwardAdditive, ImageForwardCompositional\n",
      "\n",
      "def run_all(image, target, template, initial_params, target_params):\n",
      "    plt.figure()\n",
      "    inital_transform = SimilarityTransform.from_vector(initial_params)\n",
      "    inv_comp = ImageInverseCompositional(target, residual, deepcopy(inital_transform))\n",
      "    for_add = ImageForwardAdditive(target, residual, deepcopy(inital_transform))\n",
      "    for_comp = ImageForwardCompositional(target, residual, deepcopy(inital_transform))\n",
      "\n",
      "    inv_comp_transform = inv_comp.align(image, initial_params)\n",
      "    inv_comp_res = target.warp_to(template, inv_comp_transform)\n",
      "    plt.subplot(141)\n",
      "    inv_comp_res.view(channels=2)\n",
      "    \n",
      "    # Get Forward Compositional optimum transform and plot\n",
      "    for_comp_transform = for_comp.align(image, initial_params)\n",
      "    for_comp_res = target.warp_to(template, for_comp_transform)\n",
      "    plt.subplot(142)\n",
      "    for_comp_res.view(channels=2)\n",
      "    \n",
      "    # Get Forward Additive optimum transform and plot\n",
      "    for_add_transform = for_add.align(image, initial_params)\n",
      "    \n",
      "    for_add_res = target.warp_to(template, for_add_transform)\n",
      "    plt.subplot(143)\n",
      "    for_add_res.view(channels=2)\n",
      "    \n",
      "    # Plot target image we were warping to\n",
      "    plt.subplot(144)\n",
      "    target.warp_to(template, for_add_transform.from_vector(target_params)).view(channels=2)\n",
      "    \n",
      "    # Set Figure to be larger\n",
      "    plt.gcf().set_size_inches(12.0, 5.0)\n",
      "    \n",
      "    original_box = np.array([[0,                 0],\n",
      "                             [template.shape[0], 0],\n",
      "                             [template.shape[0], template.shape[1]],\n",
      "                             [0,                 template.shape[1]]]).T\n",
      "    target_pts = SimilarityTransform.from_vector(target_params).apply(original_box.T)\n",
      "    print 'Initial RMS: {}'.format(compute_rms_point_error(target_pts, original_box, SimilarityTransform.from_vector(initial_params)))\n",
      "    print 'Inverse compositional RMS error: {0}'.format(compute_rms_point_error(target_pts, original_box, inv_comp_transform))\n",
      "    print 'Forward additive RMS error:      {0}'.format(compute_rms_point_error(target_pts, original_box, for_add_transform))\n",
      "    print 'Forward compositional RMS error: {0}'.format(compute_rms_point_error(target_pts, original_box, for_comp_transform))"
     ],
     "language": "python",
     "metadata": {},
     "outputs": []
    },
    {
     "cell_type": "code",
     "collapsed": false,
     "input": [
      "img1_n = MaskedNDImage.blank(img1.shape, mask=img1.mask, n_channels=3)\n",
      "img1_n.from_vector_inplace(img1.mesh.vertex_normals.ravel())\n",
      "\n",
      "print 'Normals'\n",
      "run_all(img1_n, target_n, template, initial_params, target_params)\n",
      "print 'Depth'\n",
      "run_all(img1, target, template, initial_params, target_params)"
     ],
     "language": "python",
     "metadata": {},
     "outputs": []
    },
    {
     "cell_type": "code",
     "collapsed": false,
     "input": [
      "from pybug.transform.affine import SimilarityTransform\n",
      "from pybug.shape import PointCloud\n",
      "\n",
      "original_box = PointCloud(np.array([[0, 0.],\n",
      "                                    [1, 0.],\n",
      "                                    [1, 1.],\n",
      "                                    [0, 1.]]))\n",
      "\n",
      "target_box = PointCloud(original_box.points + np.random.uniform(-1, 1, (4, 2)) * 2)\n",
      "SimilarityTransform.align(original_box, target_box).apply_inplace(target_box)\n",
      "\n",
      "print np.sqrt(np.mean((original_box.points - target_box.points) ** 2))"
     ],
     "language": "python",
     "metadata": {},
     "outputs": []
    }
   ],
   "metadata": {}
  }
 ]
}